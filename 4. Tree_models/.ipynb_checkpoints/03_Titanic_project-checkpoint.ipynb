{
 "cells": [
  {
   "cell_type": "markdown",
   "metadata": {},
   "source": [
    "# Titanic dataset\n",
    "다음 모델들의 테스트 성능을 비교해봅시다.\n",
    "1. Logistic regression\n",
    "2. k-nearest neighbor classifier\n",
    "3. naive Bayes classifier\n",
    "4. Decision tree\n",
    "5. Random forest"
   ]
  },
  {
   "cell_type": "markdown",
   "metadata": {},
   "source": [
    "# 0. Data preprocessing"
   ]
  },
  {
   "cell_type": "code",
   "execution_count": null,
   "metadata": {
    "collapsed": true
   },
   "outputs": [],
   "source": [
    "from pprint import pprint\n",
    "import numpy as np\n",
    "import pandas as pd\n",
    "import matplotlib.pyplot as plt\n",
    "from sklearn.linear_model import LogisticRegression\n",
    "from sklearn.neighbors import KNeighborsClassifier\n",
    "from sklearn.naive_bayes import GaussianNB\n",
    "from sklearn.tree import DecisionTreeClassifier\n",
    "from sklearn.ensemble import RandomForestClassifier\n",
    "from sklearn.model_selection import train_test_split\n",
    "from sklearn.metrics import roc_curve, auc"
   ]
  },
  {
   "cell_type": "code",
   "execution_count": null,
   "metadata": {
    "collapsed": true
   },
   "outputs": [],
   "source": [
    "# Load Titanic dataset\n",
    "url = 'data/titanic.csv'\n",
    "titanic = pd.read_csv(url, index_col='PassengerId')"
   ]
  },
  {
   "cell_type": "code",
   "execution_count": null,
   "metadata": {},
   "outputs": [],
   "source": [
    "titanic.head(10)"
   ]
  },
  {
   "cell_type": "code",
   "execution_count": null,
   "metadata": {},
   "outputs": [],
   "source": [
    "titanic.dtypes"
   ]
  },
  {
   "cell_type": "code",
   "execution_count": null,
   "metadata": {},
   "outputs": [],
   "source": [
    "titanic.info()"
   ]
  },
  {
   "cell_type": "code",
   "execution_count": null,
   "metadata": {
    "scrolled": true
   },
   "outputs": [],
   "source": [
    "titanic.describe()"
   ]
  },
  {
   "cell_type": "code",
   "execution_count": null,
   "metadata": {},
   "outputs": [],
   "source": [
    "titanic.Age.isnull()"
   ]
  },
  {
   "cell_type": "code",
   "execution_count": null,
   "metadata": {
    "collapsed": true
   },
   "outputs": [],
   "source": [
    "list = []\n",
    "for i in range (0, len(titanic)):\n",
    "    age = titanic.iloc[i].Age\n",
    "    age = 'child' if age < 20 else 'adult' if age >= 20 else 'unknown'\n",
    "    list.append(age)"
   ]
  },
  {
   "cell_type": "code",
   "execution_count": null,
   "metadata": {},
   "outputs": [],
   "source": [
    "list"
   ]
  },
  {
   "cell_type": "code",
   "execution_count": null,
   "metadata": {
    "collapsed": true
   },
   "outputs": [],
   "source": [
    "titanic['Age_modified'] = list"
   ]
  },
  {
   "cell_type": "code",
   "execution_count": null,
   "metadata": {},
   "outputs": [],
   "source": [
    "titanic.head(3)"
   ]
  },
  {
   "cell_type": "code",
   "execution_count": null,
   "metadata": {},
   "outputs": [],
   "source": [
    "Age_dummies = pd.get_dummies(titanic.Age_modified, prefix = 'Age')\n",
    "Age_dummies.sample(n = 10)"
   ]
  },
  {
   "cell_type": "code",
   "execution_count": null,
   "metadata": {},
   "outputs": [],
   "source": [
    "Embarked_dummies = pd.get_dummies(titanic.Embarked, prefix = 'Embarked')\n",
    "Embarked_dummies.sample(n = 10)"
   ]
  },
  {
   "cell_type": "code",
   "execution_count": null,
   "metadata": {},
   "outputs": [],
   "source": [
    "Sex_dummies = pd.get_dummies(titanic.Sex, prefix = 'Sex')\n",
    "Sex_dummies.sample (n = 10)"
   ]
  },
  {
   "cell_type": "code",
   "execution_count": null,
   "metadata": {
    "collapsed": true
   },
   "outputs": [],
   "source": [
    "data = pd.concat([titanic, Age_dummies, Embarked_dummies, Sex_dummies], axis = 1)"
   ]
  },
  {
   "cell_type": "code",
   "execution_count": null,
   "metadata": {},
   "outputs": [],
   "source": [
    "data.head(5)"
   ]
  },
  {
   "cell_type": "code",
   "execution_count": null,
   "metadata": {
    "collapsed": true
   },
   "outputs": [],
   "source": [
    "data = data.drop(['Name', 'Sex', 'Age', 'Age_modified', 'Ticket', 'Fare', 'Cabin', 'Embarked'], axis = 1)"
   ]
  },
  {
   "cell_type": "code",
   "execution_count": null,
   "metadata": {},
   "outputs": [],
   "source": [
    "data.head(5)"
   ]
  },
  {
   "cell_type": "code",
   "execution_count": null,
   "metadata": {
    "collapsed": true
   },
   "outputs": [],
   "source": [
    "# 변수명 가져오기\n",
    "col_names = data.columns.values"
   ]
  },
  {
   "cell_type": "code",
   "execution_count": null,
   "metadata": {
    "collapsed": true
   },
   "outputs": [],
   "source": [
    "X = data[col_names[1:]]\n",
    "Y = data[col_names[0]]"
   ]
  },
  {
   "cell_type": "code",
   "execution_count": null,
   "metadata": {},
   "outputs": [],
   "source": [
    "X.head(5)"
   ]
  },
  {
   "cell_type": "code",
   "execution_count": null,
   "metadata": {},
   "outputs": [],
   "source": [
    "Y.head(5)"
   ]
  },
  {
   "cell_type": "markdown",
   "metadata": {},
   "source": [
    "# 1. Split data into 3 sets\n",
    "1. Training set (50%)\n",
    "2. Validation set (30%)\n",
    "3. Test set (20%)"
   ]
  },
  {
   "cell_type": "code",
   "execution_count": null,
   "metadata": {
    "collapsed": true
   },
   "outputs": [],
   "source": [
    "def train_val_test_split(X, Y, val_size=0.3, test_size=0.2, random_state=123):\n",
    "    X_train, X_test, Y_train, Y_test = train_test_split(X, Y, \n",
    "                                                        test_size=test_size, \n",
    "                                                        random_state=random_state)\n",
    "    val_size_rev = val_size / (1 - test_size)\n",
    "    X_train, X_val, Y_train, Y_val = train_test_split(X_train, Y_train,\n",
    "                                                      test_size=val_size_rev,\n",
    "                                                      random_state=random_state)\n",
    "    return X_train, X_val, X_test, Y_train, Y_val, Y_test"
   ]
  },
  {
   "cell_type": "code",
   "execution_count": null,
   "metadata": {
    "collapsed": true
   },
   "outputs": [],
   "source": [
    "X_train, X_val, X_test, Y_train, Y_val, Y_test = train_val_test_split(X, Y,\n",
    "                                                                      val_size=0.3,\n",
    "                                                                      test_size=0.2,\n",
    "                                                                      random_state=123)"
   ]
  },
  {
   "cell_type": "code",
   "execution_count": null,
   "metadata": {},
   "outputs": [],
   "source": [
    "print(X_train.shape)\n",
    "print(X_val.shape)\n",
    "print(X_test.shape)"
   ]
  },
  {
   "cell_type": "markdown",
   "metadata": {},
   "source": [
    "# 2. Fit the model and compare validation AUCs\n",
    "비교하고자 하는 classifiers들은 다음과 같음\n",
    "1. Logistic regression\n",
    "2. k-nearest neighbor classifier\n",
    "3. naive Bayes classifier\n",
    "4. Decision tree"
   ]
  },
  {
   "cell_type": "markdown",
   "metadata": {},
   "source": [
    "### 2.1. Logistic regression\n",
    "Manual for `sklearn.linear_model.LogisticRegression`: [click](http://scikit-learn.org/stable/modules/generated/sklearn.linear_model.LogisticRegression.html)\n",
    "\n",
    "다음 parameter들에 대해 validation data에 대한 AUC값을 살펴볼 것\n",
    "1. penalty\n",
    "2. C"
   ]
  },
  {
   "cell_type": "code",
   "execution_count": null,
   "metadata": {
    "collapsed": true
   },
   "outputs": [],
   "source": [
    "# C가 클수록 weak regularization\n",
    "penalty_set = ['l1', 'l2']\n",
    "C_set = [0.1, 1, 10, 1e2, 1e3, 1e4, 1e5, 1e6]"
   ]
  },
  {
   "cell_type": "code",
   "execution_count": null,
   "metadata": {
    "collapsed": true
   },
   "outputs": [],
   "source": [
    "result = []\n",
    "for penalty in penalty_set:\n",
    "    for C in C_set:\n",
    "        model = LogisticRegression(penalty = 'l2', C = C, class_weight='balanced')\n",
    "        model = model.fit(X_train, Y_train)\n",
    "#         Y_val_score = model.decision_function(X_val)\n",
    "        Y_val_score = model.predict_proba(X_val)[:, 1]\n",
    "        fpr, tpr, _ = roc_curve(Y_val, Y_val_score)\n",
    "        result.append((model, penalty, C, auc(fpr, tpr)))"
   ]
  },
  {
   "cell_type": "code",
   "execution_count": null,
   "metadata": {
    "collapsed": true
   },
   "outputs": [],
   "source": [
    "logreg_result = sorted(result, key=lambda x: x[3], reverse=True)"
   ]
  },
  {
   "cell_type": "code",
   "execution_count": null,
   "metadata": {},
   "outputs": [],
   "source": [
    "logreg_result"
   ]
  },
  {
   "cell_type": "code",
   "execution_count": null,
   "metadata": {},
   "outputs": [],
   "source": [
    "best_logreg_result = logreg_result[0]\n",
    "print(best_logreg_result)"
   ]
  },
  {
   "cell_type": "markdown",
   "metadata": {},
   "source": [
    "## 2.2. k-nearest neighbor classifier\n",
    "Manual for `sklearn.neighbors.KNeighborsClassifier`: [click](http://scikit-learn.org/stable/modules/generated/sklearn.neighbors.KNeighborsClassifier.html)\n",
    "\n",
    "다음 parameter들에 대해 validation data에 대한 AUC값을 살펴볼 것\n",
    "1. n_neighbors\n",
    "2. weights"
   ]
  },
  {
   "cell_type": "code",
   "execution_count": null,
   "metadata": {
    "collapsed": true
   },
   "outputs": [],
   "source": [
    "weights_set = ['uniform', 'distance']\n",
    "n_neighbors_set = [1, 3, 5, 7, 9, 11, 13, 15]"
   ]
  },
  {
   "cell_type": "code",
   "execution_count": null,
   "metadata": {
    "collapsed": true
   },
   "outputs": [],
   "source": [
    "result = []\n",
    "for weights in weights_set:\n",
    "    for n_neighbors in n_neighbors_set:\n",
    "        model = KNeighborsClassifier(n_neighbors=n_neighbors, weights=weights)\n",
    "        model = model.fit(X_train, Y_train)\n",
    "        Y_val_score = model.predict_proba(X_val)[:, 1]\n",
    "        fpr, tpr, _ = roc_curve(Y_val, Y_val_score)\n",
    "        result.append((model, weights, n_neighbors, auc(fpr, tpr)))        "
   ]
  },
  {
   "cell_type": "code",
   "execution_count": null,
   "metadata": {
    "collapsed": true
   },
   "outputs": [],
   "source": [
    "knn_result = sorted(result, key=lambda x: x[3], reverse=True)"
   ]
  },
  {
   "cell_type": "code",
   "execution_count": null,
   "metadata": {},
   "outputs": [],
   "source": [
    "knn_result"
   ]
  },
  {
   "cell_type": "code",
   "execution_count": null,
   "metadata": {},
   "outputs": [],
   "source": [
    "best_knn_result = knn_result[0]\n",
    "print(best_knn_result)"
   ]
  },
  {
   "cell_type": "markdown",
   "metadata": {},
   "source": [
    "## 2.3. naive Bayes clasifier\n",
    "Manual for `sklearn.naive_bayes.GaussianNB`: [click](http://scikit-learn.org/stable/modules/generated/sklearn.naive_bayes.GaussianNB.html)\n",
    "\n",
    "클래스에 대한 prior 정보를 조절하여 fitting"
   ]
  },
  {
   "cell_type": "code",
   "execution_count": null,
   "metadata": {
    "collapsed": true
   },
   "outputs": [],
   "source": [
    "priors_set = [None, [0.5, 0.5], [0.6, 0.4], [0.7, 0.3], [0.8, 0.2], [0.9, 0.1]]"
   ]
  },
  {
   "cell_type": "code",
   "execution_count": null,
   "metadata": {
    "collapsed": true
   },
   "outputs": [],
   "source": [
    "result = []\n",
    "for priors in priors_set:\n",
    "    model = GaussianNB(priors=priors)\n",
    "    model = model.fit(X_train, Y_train)\n",
    "    Y_val_score = model.predict_proba(X_val)[:, 1]\n",
    "    fpr, tpr, _ = roc_curve(Y_val, Y_val_score)\n",
    "    result.append((model, priors, auc(fpr, tpr)))      "
   ]
  },
  {
   "cell_type": "code",
   "execution_count": null,
   "metadata": {
    "collapsed": true
   },
   "outputs": [],
   "source": [
    "nb_result = sorted(result, key=lambda x: x[2], reverse=True)"
   ]
  },
  {
   "cell_type": "code",
   "execution_count": null,
   "metadata": {},
   "outputs": [],
   "source": [
    "nb_result"
   ]
  },
  {
   "cell_type": "code",
   "execution_count": null,
   "metadata": {},
   "outputs": [],
   "source": [
    "best_nb_result = nb_result[0]\n",
    "print(best_nb_result)"
   ]
  },
  {
   "cell_type": "markdown",
   "metadata": {},
   "source": [
    "## 2.4. Decision tree\n",
    "Manual for `sklearn.tree.DecisionTreeClassifier`: [click](http://scikit-learn.org/stable/modules/generated/sklearn.tree.DecisionTreeClassifier.html)\n",
    "\n",
    "다음 parameter들에 대해 validation data에 대한 AUC값을 살펴볼 것\n",
    "1. max_depth\n",
    "2. class_weight"
   ]
  },
  {
   "cell_type": "code",
   "execution_count": null,
   "metadata": {
    "collapsed": true
   },
   "outputs": [],
   "source": [
    "class_weight_set = [None, 'balanced']\n",
    "max_depth_set = [3, 4, 5, 6, 7]"
   ]
  },
  {
   "cell_type": "code",
   "execution_count": null,
   "metadata": {
    "collapsed": true
   },
   "outputs": [],
   "source": [
    "result = []\n",
    "\n",
    "for class_weight in class_weight_set:\n",
    "    for max_depth in max_depth_set:\n",
    "        model = DecisionTreeClassifier(class_weight=class_weight, max_depth=max_depth)\n",
    "        model = model.fit(X_train, Y_train)\n",
    "        Y_val_score = model.predict_proba(X_val)[:, 1]\n",
    "        fpr, tpr, _ = roc_curve(Y_val, Y_val_score)\n",
    "        result.append((model, class_weight, max_depth, auc(fpr, tpr)))  "
   ]
  },
  {
   "cell_type": "code",
   "execution_count": null,
   "metadata": {
    "collapsed": true
   },
   "outputs": [],
   "source": [
    "dt_result = sorted(result, key=lambda x: x[3], reverse=True)"
   ]
  },
  {
   "cell_type": "code",
   "execution_count": null,
   "metadata": {},
   "outputs": [],
   "source": [
    "dt_result"
   ]
  },
  {
   "cell_type": "code",
   "execution_count": null,
   "metadata": {
    "scrolled": true
   },
   "outputs": [],
   "source": [
    "best_dt_result = dt_result[0]\n",
    "print(best_dt_result)"
   ]
  },
  {
   "cell_type": "markdown",
   "metadata": {},
   "source": [
    "## 2.5. Random forest\n",
    "다음 parameter들에 대해 validation data에 대한 AUC값을 살펴볼 것\n",
    "1. n_estimators\n",
    "2. max_features"
   ]
  },
  {
   "cell_type": "code",
   "execution_count": null,
   "metadata": {
    "collapsed": true
   },
   "outputs": [],
   "source": [
    "n_estimators_set = [5, 10, 15, 20]\n",
    "max_features_set = ['auto', 'sqrt', 'log2']"
   ]
  },
  {
   "cell_type": "code",
   "execution_count": null,
   "metadata": {
    "collapsed": true
   },
   "outputs": [],
   "source": [
    "result = []\n",
    "for n_estimators in n_estimators_set:\n",
    "    for max_features in max_features_set:\n",
    "        model = RandomForestClassifier(n_estimators=n_estimators, max_features=max_features)\n",
    "        model = model.fit(X_train, Y_train)\n",
    "        Y_val_score = model.predict_proba(X_val)[:, 1]\n",
    "        fpr, tpr, _ = roc_curve(Y_val, Y_val_score)\n",
    "        result.append((model, n_estimators, max_features, auc(fpr, tpr)))         "
   ]
  },
  {
   "cell_type": "code",
   "execution_count": null,
   "metadata": {
    "collapsed": true
   },
   "outputs": [],
   "source": [
    "rf_result = sorted(result, key=lambda x: x[3], reverse=True)"
   ]
  },
  {
   "cell_type": "code",
   "execution_count": null,
   "metadata": {},
   "outputs": [],
   "source": [
    "rf_result"
   ]
  },
  {
   "cell_type": "code",
   "execution_count": null,
   "metadata": {},
   "outputs": [],
   "source": [
    "best_rf_result = rf_result[0]\n",
    "print(best_rf_result)"
   ]
  },
  {
   "cell_type": "markdown",
   "metadata": {},
   "source": [
    "# 3. Test the model"
   ]
  },
  {
   "cell_type": "code",
   "execution_count": null,
   "metadata": {},
   "outputs": [],
   "source": [
    "selected_models = []\n",
    "selected_models.append(best_logreg_result[0])\n",
    "selected_models.append(best_knn_result[0])\n",
    "selected_models.append(best_nb_result[0])\n",
    "selected_models.append(best_dt_result[0])\n",
    "selected_models.append(best_rf_result[0])\n",
    "pprint(selected_models)"
   ]
  },
  {
   "cell_type": "code",
   "execution_count": null,
   "metadata": {
    "collapsed": true
   },
   "outputs": [],
   "source": [
    "test_result = []\n",
    "\n",
    "for model in selected_models:\n",
    "    Y_test_score = model.predict_proba(X_test)[:, 1]\n",
    "    fpr, tpr, _ = roc_curve(Y_test, Y_test_score)\n",
    "    test_result.append((model, auc(fpr, tpr)))      "
   ]
  },
  {
   "cell_type": "code",
   "execution_count": null,
   "metadata": {},
   "outputs": [],
   "source": [
    "test_result"
   ]
  },
  {
   "cell_type": "code",
   "execution_count": null,
   "metadata": {
    "collapsed": true
   },
   "outputs": [],
   "source": [
    "test_result = sorted(test_result, key=lambda x: x[1], reverse=True)"
   ]
  },
  {
   "cell_type": "code",
   "execution_count": null,
   "metadata": {},
   "outputs": [],
   "source": [
    "test_result"
   ]
  },
  {
   "cell_type": "markdown",
   "metadata": {},
   "source": [
    "# 4. Discussion"
   ]
  }
 ],
 "metadata": {
  "anaconda-cloud": {},
  "kernelspec": {
   "display_name": "Python [conda root]",
   "language": "python",
   "name": "conda-root-py"
  },
  "language_info": {
   "codemirror_mode": {
    "name": "ipython",
    "version": 3
   },
   "file_extension": ".py",
   "mimetype": "text/x-python",
   "name": "python",
   "nbconvert_exporter": "python",
   "pygments_lexer": "ipython3",
   "version": "3.6.0"
  }
 },
 "nbformat": 4,
 "nbformat_minor": 1
}
