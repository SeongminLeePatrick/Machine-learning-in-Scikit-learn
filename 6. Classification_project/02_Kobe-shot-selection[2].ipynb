{
 "cells": [
  {
   "cell_type": "markdown",
   "metadata": {
    "collapsed": true
   },
   "source": [
    "## 3 Preprocessing"
   ]
  },
  {
   "cell_type": "code",
   "execution_count": 1,
   "metadata": {
    "collapsed": true
   },
   "outputs": [],
   "source": [
    "import pandas as pd\n",
    "\n",
    "data = pd.read_csv(\"data/kobe.csv\")\n",
    "data = data[data.shot_made_flag.isnull()==False] # 같은 표현 : data = data.dropna()"
   ]
  },
  {
   "cell_type": "code",
   "execution_count": 2,
   "metadata": {},
   "outputs": [],
   "source": [
    "X = data.ix[:,data.columns != 'shot_made_flag'].copy() # 'shot_made_flag'를 제외한 모든 columns를 선택\n",
    "y = data.shot_made_flag.copy()"
   ]
  },
  {
   "cell_type": "markdown",
   "metadata": {},
   "source": [
    "### 3-1 불필요한 feature 제거"
   ]
  },
  {
   "cell_type": "code",
   "execution_count": 3,
   "metadata": {},
   "outputs": [
    {
     "name": "stdout",
     "output_type": "stream",
     "text": [
      "action_type\n",
      "combined_shot_type\n",
      "game_event_id\n",
      "game_id\n",
      "lat\n",
      "loc_x\n",
      "loc_y\n",
      "lon\n",
      "minutes_remaining\n",
      "period\n",
      "playoffs\n",
      "season\n",
      "seconds_remaining\n",
      "shot_distance\n",
      "shot_type\n",
      "shot_zone_area\n",
      "shot_zone_basic\n",
      "shot_zone_range\n",
      "team_id\n",
      "team_name\n",
      "game_date\n",
      "matchup\n",
      "opponent\n",
      "shot_id\n"
     ]
    }
   ],
   "source": [
    "for col in X.columns:\n",
    "    print(col)"
   ]
  },
  {
   "cell_type": "code",
   "execution_count": 4,
   "metadata": {
    "collapsed": true
   },
   "outputs": [],
   "source": [
    "X.drop('game_id', axis=1, inplace=True) # Independent\n",
    "X.drop('game_event_id', axis=1, inplace=True) # Independent\n",
    "\n",
    "X.drop('lat', axis=1, inplace=True) # Correlated with loc_x\n",
    "X.drop('lon', axis=1, inplace=True) # Correlated with loc_y\n",
    "\n",
    "X.drop('team_id', axis=1, inplace=True) # Always one number\n",
    "X.drop('team_name', axis=1, inplace=True) # Always LA Lakers"
   ]
  },
  {
   "cell_type": "markdown",
   "metadata": {},
   "source": [
    "## 3-2 Data Transformation"
   ]
  },
  {
   "cell_type": "code",
   "execution_count": 5,
   "metadata": {
    "collapsed": true
   },
   "outputs": [],
   "source": [
    "# Remaining time\n",
    "X['seconds_from_period_end'] = 60 * X['minutes_remaining'] + X['seconds_remaining']\n",
    "X['last_5_sec_in_period'] = X['seconds_from_period_end'] < 5\n",
    "\n",
    "X.drop('minutes_remaining', axis=1, inplace=True)\n",
    "X.drop('seconds_remaining', axis=1, inplace=True)\n",
    "X.drop('seconds_from_period_end', axis=1, inplace=True)\n",
    "\n",
    "## Matchup - (away/home)\n",
    "X['home_play'] = X['matchup'].str.contains('vs').astype('int')\n",
    "X.drop('matchup', axis=1, inplace=True)\n",
    "\n",
    "# Game date\n",
    "X['game_date'] = pd.to_datetime(X['game_date'])\n",
    "X['game_year'] = X['game_date'].dt.year\n",
    "X['game_month'] = X['game_date'].dt.month\n",
    "X.drop('game_date', axis=1, inplace=True)\n",
    "\n",
    "# Loc_x, and loc_y binning\n",
    "X['loc_x'] = pd.cut(X['loc_x'], 25)\n",
    "X['loc_y'] = pd.cut(X['loc_y'], 25)\n",
    "\n",
    "# Replace 20 least common action types with value 'Other'\n",
    "rare_action_types = X['action_type'].value_counts().sort_values().index.values[:20]\n",
    "X.loc[X['action_type'].isin(rare_action_types), 'action_type'] = 'Other'"
   ]
  },
  {
   "cell_type": "markdown",
   "metadata": {},
   "source": [
    "## 3-3 Categorical variable to dummies"
   ]
  },
  {
   "cell_type": "code",
   "execution_count": 6,
   "metadata": {
    "collapsed": true
   },
   "outputs": [],
   "source": [
    "categorial_cols = [\n",
    "    'action_type', 'combined_shot_type', 'period', 'season', 'shot_type',\n",
    "    'shot_zone_area', 'shot_zone_basic', 'shot_zone_range', 'game_year',\n",
    "    'game_month', 'opponent', 'loc_x', 'loc_y']\n",
    "\n",
    "for cc in categorial_cols:\n",
    "    dummies = pd.get_dummies(X[cc])\n",
    "    dummies = dummies.add_prefix(\"{}-\".format(cc))\n",
    "    X.drop(cc, axis=1, inplace=True)\n",
    "    X = X.join(dummies)"
   ]
  },
  {
   "cell_type": "code",
   "execution_count": 7,
   "metadata": {},
   "outputs": [
    {
     "data": {
      "text/html": [
       "<div>\n",
       "<table border=\"1\" class=\"dataframe\">\n",
       "  <thead>\n",
       "    <tr style=\"text-align: right;\">\n",
       "      <th></th>\n",
       "      <th>playoffs</th>\n",
       "      <th>shot_distance</th>\n",
       "      <th>shot_id</th>\n",
       "      <th>last_5_sec_in_period</th>\n",
       "      <th>home_play</th>\n",
       "      <th>action_type-Alley Oop Dunk Shot</th>\n",
       "      <th>action_type-Alley Oop Layup shot</th>\n",
       "      <th>action_type-Driving Dunk Shot</th>\n",
       "      <th>action_type-Driving Finger Roll Layup Shot</th>\n",
       "      <th>action_type-Driving Finger Roll Shot</th>\n",
       "      <th>...</th>\n",
       "      <th>loc_y-(457, 490.4]</th>\n",
       "      <th>loc_y-(490.4, 523.8]</th>\n",
       "      <th>loc_y-(523.8, 557.2]</th>\n",
       "      <th>loc_y-(557.2, 590.6]</th>\n",
       "      <th>loc_y-(590.6, 624]</th>\n",
       "      <th>loc_y-(624, 657.4]</th>\n",
       "      <th>loc_y-(657.4, 690.8]</th>\n",
       "      <th>loc_y-(690.8, 724.2]</th>\n",
       "      <th>loc_y-(724.2, 757.6]</th>\n",
       "      <th>loc_y-(757.6, 791]</th>\n",
       "    </tr>\n",
       "  </thead>\n",
       "  <tbody>\n",
       "    <tr>\n",
       "      <th>1</th>\n",
       "      <td>0</td>\n",
       "      <td>15</td>\n",
       "      <td>2</td>\n",
       "      <td>False</td>\n",
       "      <td>0</td>\n",
       "      <td>0</td>\n",
       "      <td>0</td>\n",
       "      <td>0</td>\n",
       "      <td>0</td>\n",
       "      <td>0</td>\n",
       "      <td>...</td>\n",
       "      <td>0</td>\n",
       "      <td>0</td>\n",
       "      <td>0</td>\n",
       "      <td>0</td>\n",
       "      <td>0</td>\n",
       "      <td>0</td>\n",
       "      <td>0</td>\n",
       "      <td>0</td>\n",
       "      <td>0</td>\n",
       "      <td>0</td>\n",
       "    </tr>\n",
       "    <tr>\n",
       "      <th>2</th>\n",
       "      <td>0</td>\n",
       "      <td>16</td>\n",
       "      <td>3</td>\n",
       "      <td>False</td>\n",
       "      <td>0</td>\n",
       "      <td>0</td>\n",
       "      <td>0</td>\n",
       "      <td>0</td>\n",
       "      <td>0</td>\n",
       "      <td>0</td>\n",
       "      <td>...</td>\n",
       "      <td>0</td>\n",
       "      <td>0</td>\n",
       "      <td>0</td>\n",
       "      <td>0</td>\n",
       "      <td>0</td>\n",
       "      <td>0</td>\n",
       "      <td>0</td>\n",
       "      <td>0</td>\n",
       "      <td>0</td>\n",
       "      <td>0</td>\n",
       "    </tr>\n",
       "    <tr>\n",
       "      <th>3</th>\n",
       "      <td>0</td>\n",
       "      <td>22</td>\n",
       "      <td>4</td>\n",
       "      <td>False</td>\n",
       "      <td>0</td>\n",
       "      <td>0</td>\n",
       "      <td>0</td>\n",
       "      <td>0</td>\n",
       "      <td>0</td>\n",
       "      <td>0</td>\n",
       "      <td>...</td>\n",
       "      <td>0</td>\n",
       "      <td>0</td>\n",
       "      <td>0</td>\n",
       "      <td>0</td>\n",
       "      <td>0</td>\n",
       "      <td>0</td>\n",
       "      <td>0</td>\n",
       "      <td>0</td>\n",
       "      <td>0</td>\n",
       "      <td>0</td>\n",
       "    </tr>\n",
       "    <tr>\n",
       "      <th>4</th>\n",
       "      <td>0</td>\n",
       "      <td>0</td>\n",
       "      <td>5</td>\n",
       "      <td>False</td>\n",
       "      <td>0</td>\n",
       "      <td>0</td>\n",
       "      <td>0</td>\n",
       "      <td>1</td>\n",
       "      <td>0</td>\n",
       "      <td>0</td>\n",
       "      <td>...</td>\n",
       "      <td>0</td>\n",
       "      <td>0</td>\n",
       "      <td>0</td>\n",
       "      <td>0</td>\n",
       "      <td>0</td>\n",
       "      <td>0</td>\n",
       "      <td>0</td>\n",
       "      <td>0</td>\n",
       "      <td>0</td>\n",
       "      <td>0</td>\n",
       "    </tr>\n",
       "    <tr>\n",
       "      <th>5</th>\n",
       "      <td>0</td>\n",
       "      <td>14</td>\n",
       "      <td>6</td>\n",
       "      <td>False</td>\n",
       "      <td>0</td>\n",
       "      <td>0</td>\n",
       "      <td>0</td>\n",
       "      <td>0</td>\n",
       "      <td>0</td>\n",
       "      <td>0</td>\n",
       "      <td>...</td>\n",
       "      <td>0</td>\n",
       "      <td>0</td>\n",
       "      <td>0</td>\n",
       "      <td>0</td>\n",
       "      <td>0</td>\n",
       "      <td>0</td>\n",
       "      <td>0</td>\n",
       "      <td>0</td>\n",
       "      <td>0</td>\n",
       "      <td>0</td>\n",
       "    </tr>\n",
       "  </tbody>\n",
       "</table>\n",
       "<p>5 rows × 207 columns</p>\n",
       "</div>"
      ],
      "text/plain": [
       "   playoffs  shot_distance  shot_id last_5_sec_in_period  home_play  \\\n",
       "1         0             15        2                False          0   \n",
       "2         0             16        3                False          0   \n",
       "3         0             22        4                False          0   \n",
       "4         0              0        5                False          0   \n",
       "5         0             14        6                False          0   \n",
       "\n",
       "   action_type-Alley Oop Dunk Shot  action_type-Alley Oop Layup shot  \\\n",
       "1                                0                                 0   \n",
       "2                                0                                 0   \n",
       "3                                0                                 0   \n",
       "4                                0                                 0   \n",
       "5                                0                                 0   \n",
       "\n",
       "   action_type-Driving Dunk Shot  action_type-Driving Finger Roll Layup Shot  \\\n",
       "1                              0                                           0   \n",
       "2                              0                                           0   \n",
       "3                              0                                           0   \n",
       "4                              1                                           0   \n",
       "5                              0                                           0   \n",
       "\n",
       "   action_type-Driving Finger Roll Shot         ...          \\\n",
       "1                                     0         ...           \n",
       "2                                     0         ...           \n",
       "3                                     0         ...           \n",
       "4                                     0         ...           \n",
       "5                                     0         ...           \n",
       "\n",
       "   loc_y-(457, 490.4]  loc_y-(490.4, 523.8]  loc_y-(523.8, 557.2]  \\\n",
       "1                   0                     0                     0   \n",
       "2                   0                     0                     0   \n",
       "3                   0                     0                     0   \n",
       "4                   0                     0                     0   \n",
       "5                   0                     0                     0   \n",
       "\n",
       "   loc_y-(557.2, 590.6]  loc_y-(590.6, 624]  loc_y-(624, 657.4]  \\\n",
       "1                     0                   0                   0   \n",
       "2                     0                   0                   0   \n",
       "3                     0                   0                   0   \n",
       "4                     0                   0                   0   \n",
       "5                     0                   0                   0   \n",
       "\n",
       "   loc_y-(657.4, 690.8]  loc_y-(690.8, 724.2]  loc_y-(724.2, 757.6]  \\\n",
       "1                     0                     0                     0   \n",
       "2                     0                     0                     0   \n",
       "3                     0                     0                     0   \n",
       "4                     0                     0                     0   \n",
       "5                     0                     0                     0   \n",
       "\n",
       "   loc_y-(757.6, 791]  \n",
       "1                   0  \n",
       "2                   0  \n",
       "3                   0  \n",
       "4                   0  \n",
       "5                   0  \n",
       "\n",
       "[5 rows x 207 columns]"
      ]
     },
     "execution_count": 7,
     "metadata": {},
     "output_type": "execute_result"
    }
   ],
   "source": [
    "X.head()"
   ]
  },
  {
   "cell_type": "markdown",
   "metadata": {},
   "source": [
    "- 총 207개 features"
   ]
  },
  {
   "cell_type": "markdown",
   "metadata": {},
   "source": [
    "## 3-3 Feature selection\n",
    "- 가장 대표적인 feature selection 방법으로는 Lasso penalty(i.e. 'L1' penalty)를 이용한 방법과 Random Forest를 이용한 방법이 있음\n",
    "- Lasso : http://scikit-learn.org/stable/modules/generated/sklearn.linear_model.Lasso.html\n",
    "- Random forest : http://scikit-learn.org/stable/auto_examples/ensemble/plot_forest_importances.html"
   ]
  },
  {
   "cell_type": "markdown",
   "metadata": {},
   "source": [
    "### [1] Lasso"
   ]
  },
  {
   "cell_type": "code",
   "execution_count": 8,
   "metadata": {
    "collapsed": true
   },
   "outputs": [],
   "source": [
    "import numpy as np\n",
    "\n",
    "def get_important_features(model, n_features):\n",
    "    # coefficient가 0이 아닌 변수들만 고름\n",
    "    index_list = np.where(model.coef_ != 0)[1]\n",
    "    coef_list = []\n",
    "    \n",
    "    for index in index_list:\n",
    "        coef_list.append(model.coef_[0][index])\n",
    "    \n",
    "    # coefficient가 큰 값으로 정렬하고 변수의 index도 함께 정렬\n",
    "    coef_list, index_list = (list(t) for t in zip(*sorted(zip(coef_list, index_list), reverse=True)))\n",
    "\n",
    "    # coefficient가 큰 값을 갖는 순서대로 변수명을 저장\n",
    "    important_features = []\n",
    "    for coef, index in zip(coef_list, index_list):\n",
    "        important_features.append(X.columns[index])\n",
    "    return important_features[:n_features]"
   ]
  },
  {
   "cell_type": "code",
   "execution_count": 9,
   "metadata": {},
   "outputs": [
    {
     "data": {
      "text/plain": [
       "LogisticRegression(C=0.1, class_weight=None, dual=False, fit_intercept=True,\n",
       "          intercept_scaling=1, max_iter=100, multi_class='ovr', n_jobs=1,\n",
       "          penalty='l1', random_state=None, solver='liblinear', tol=0.0001,\n",
       "          verbose=0, warm_start=False)"
      ]
     },
     "execution_count": 9,
     "metadata": {},
     "output_type": "execute_result"
    }
   ],
   "source": [
    "from sklearn.linear_model import LogisticRegression\n",
    "\n",
    "# C 값을 조정하여 coefficient값이 0인 변수 수를 조절 할 수 있음\n",
    "model = LogisticRegression(penalty='l1',C=0.1)\n",
    "model.fit(X,y)"
   ]
  },
  {
   "cell_type": "code",
   "execution_count": 10,
   "metadata": {},
   "outputs": [
    {
     "name": "stdout",
     "output_type": "stream",
     "text": [
      "combined_shot_type-Dunk\n",
      "action_type-Jump Bank Shot\n",
      "action_type-Running Jump Shot\n",
      "action_type-Slam Dunk Shot\n",
      "combined_shot_type-Bank Shot\n",
      "shot_zone_range-24+ ft.\n",
      "loc_y-(123, 156.4]\n",
      "shot_zone_range-16-24 ft.\n",
      "loc_y-(156.4, 189.8]\n",
      "action_type-Pullup Jump shot\n",
      "opponent-NYK\n",
      "shot_zone_range-8-16 ft.\n",
      "loc_y-(189.8, 223.2]\n",
      "action_type-Driving Layup Shot\n",
      "game_year-2000\n",
      "game_year-2006\n",
      "game_month-5\n",
      "shot_zone_basic-Left Corner 3\n",
      "shot_zone_basic-Restricted Area\n",
      "game_year-1999\n"
     ]
    }
   ],
   "source": [
    "Lasso_selected_features_ = get_important_features(model, 20)\n",
    "\n",
    "# 선택된 feature\n",
    "for feature in Lasso_selected_features_:\n",
    "    print(feature)"
   ]
  },
  {
   "cell_type": "code",
   "execution_count": 11,
   "metadata": {},
   "outputs": [
    {
     "data": {
      "text/html": [
       "<div>\n",
       "<table border=\"1\" class=\"dataframe\">\n",
       "  <thead>\n",
       "    <tr style=\"text-align: right;\">\n",
       "      <th></th>\n",
       "      <th>combined_shot_type-Dunk</th>\n",
       "      <th>action_type-Jump Bank Shot</th>\n",
       "      <th>action_type-Running Jump Shot</th>\n",
       "      <th>action_type-Slam Dunk Shot</th>\n",
       "      <th>combined_shot_type-Bank Shot</th>\n",
       "      <th>shot_zone_range-24+ ft.</th>\n",
       "      <th>loc_y-(123, 156.4]</th>\n",
       "      <th>shot_zone_range-16-24 ft.</th>\n",
       "      <th>loc_y-(156.4, 189.8]</th>\n",
       "      <th>action_type-Pullup Jump shot</th>\n",
       "      <th>opponent-NYK</th>\n",
       "      <th>shot_zone_range-8-16 ft.</th>\n",
       "      <th>loc_y-(189.8, 223.2]</th>\n",
       "      <th>action_type-Driving Layup Shot</th>\n",
       "      <th>game_year-2000</th>\n",
       "      <th>game_year-2006</th>\n",
       "      <th>game_month-5</th>\n",
       "      <th>shot_zone_basic-Left Corner 3</th>\n",
       "      <th>shot_zone_basic-Restricted Area</th>\n",
       "      <th>game_year-1999</th>\n",
       "    </tr>\n",
       "  </thead>\n",
       "  <tbody>\n",
       "    <tr>\n",
       "      <th>1</th>\n",
       "      <td>0</td>\n",
       "      <td>0</td>\n",
       "      <td>0</td>\n",
       "      <td>0</td>\n",
       "      <td>0</td>\n",
       "      <td>0</td>\n",
       "      <td>0</td>\n",
       "      <td>0</td>\n",
       "      <td>0</td>\n",
       "      <td>0</td>\n",
       "      <td>0</td>\n",
       "      <td>1</td>\n",
       "      <td>0</td>\n",
       "      <td>0</td>\n",
       "      <td>1</td>\n",
       "      <td>0</td>\n",
       "      <td>0</td>\n",
       "      <td>0</td>\n",
       "      <td>0</td>\n",
       "      <td>0</td>\n",
       "    </tr>\n",
       "    <tr>\n",
       "      <th>2</th>\n",
       "      <td>0</td>\n",
       "      <td>0</td>\n",
       "      <td>0</td>\n",
       "      <td>0</td>\n",
       "      <td>0</td>\n",
       "      <td>0</td>\n",
       "      <td>1</td>\n",
       "      <td>1</td>\n",
       "      <td>0</td>\n",
       "      <td>0</td>\n",
       "      <td>0</td>\n",
       "      <td>0</td>\n",
       "      <td>0</td>\n",
       "      <td>0</td>\n",
       "      <td>1</td>\n",
       "      <td>0</td>\n",
       "      <td>0</td>\n",
       "      <td>0</td>\n",
       "      <td>0</td>\n",
       "      <td>0</td>\n",
       "    </tr>\n",
       "    <tr>\n",
       "      <th>3</th>\n",
       "      <td>0</td>\n",
       "      <td>0</td>\n",
       "      <td>0</td>\n",
       "      <td>0</td>\n",
       "      <td>0</td>\n",
       "      <td>0</td>\n",
       "      <td>0</td>\n",
       "      <td>1</td>\n",
       "      <td>1</td>\n",
       "      <td>0</td>\n",
       "      <td>0</td>\n",
       "      <td>0</td>\n",
       "      <td>0</td>\n",
       "      <td>0</td>\n",
       "      <td>1</td>\n",
       "      <td>0</td>\n",
       "      <td>0</td>\n",
       "      <td>0</td>\n",
       "      <td>0</td>\n",
       "      <td>0</td>\n",
       "    </tr>\n",
       "    <tr>\n",
       "      <th>4</th>\n",
       "      <td>1</td>\n",
       "      <td>0</td>\n",
       "      <td>0</td>\n",
       "      <td>0</td>\n",
       "      <td>0</td>\n",
       "      <td>0</td>\n",
       "      <td>0</td>\n",
       "      <td>0</td>\n",
       "      <td>0</td>\n",
       "      <td>0</td>\n",
       "      <td>0</td>\n",
       "      <td>0</td>\n",
       "      <td>0</td>\n",
       "      <td>0</td>\n",
       "      <td>1</td>\n",
       "      <td>0</td>\n",
       "      <td>0</td>\n",
       "      <td>0</td>\n",
       "      <td>1</td>\n",
       "      <td>0</td>\n",
       "    </tr>\n",
       "    <tr>\n",
       "      <th>5</th>\n",
       "      <td>0</td>\n",
       "      <td>0</td>\n",
       "      <td>0</td>\n",
       "      <td>0</td>\n",
       "      <td>0</td>\n",
       "      <td>0</td>\n",
       "      <td>0</td>\n",
       "      <td>0</td>\n",
       "      <td>0</td>\n",
       "      <td>0</td>\n",
       "      <td>0</td>\n",
       "      <td>1</td>\n",
       "      <td>0</td>\n",
       "      <td>0</td>\n",
       "      <td>1</td>\n",
       "      <td>0</td>\n",
       "      <td>0</td>\n",
       "      <td>0</td>\n",
       "      <td>0</td>\n",
       "      <td>0</td>\n",
       "    </tr>\n",
       "  </tbody>\n",
       "</table>\n",
       "</div>"
      ],
      "text/plain": [
       "   combined_shot_type-Dunk  action_type-Jump Bank Shot  \\\n",
       "1                        0                           0   \n",
       "2                        0                           0   \n",
       "3                        0                           0   \n",
       "4                        1                           0   \n",
       "5                        0                           0   \n",
       "\n",
       "   action_type-Running Jump Shot  action_type-Slam Dunk Shot  \\\n",
       "1                              0                           0   \n",
       "2                              0                           0   \n",
       "3                              0                           0   \n",
       "4                              0                           0   \n",
       "5                              0                           0   \n",
       "\n",
       "   combined_shot_type-Bank Shot  shot_zone_range-24+ ft.  loc_y-(123, 156.4]  \\\n",
       "1                             0                        0                   0   \n",
       "2                             0                        0                   1   \n",
       "3                             0                        0                   0   \n",
       "4                             0                        0                   0   \n",
       "5                             0                        0                   0   \n",
       "\n",
       "   shot_zone_range-16-24 ft.  loc_y-(156.4, 189.8]  \\\n",
       "1                          0                     0   \n",
       "2                          1                     0   \n",
       "3                          1                     1   \n",
       "4                          0                     0   \n",
       "5                          0                     0   \n",
       "\n",
       "   action_type-Pullup Jump shot  opponent-NYK  shot_zone_range-8-16 ft.  \\\n",
       "1                             0             0                         1   \n",
       "2                             0             0                         0   \n",
       "3                             0             0                         0   \n",
       "4                             0             0                         0   \n",
       "5                             0             0                         1   \n",
       "\n",
       "   loc_y-(189.8, 223.2]  action_type-Driving Layup Shot  game_year-2000  \\\n",
       "1                     0                               0               1   \n",
       "2                     0                               0               1   \n",
       "3                     0                               0               1   \n",
       "4                     0                               0               1   \n",
       "5                     0                               0               1   \n",
       "\n",
       "   game_year-2006  game_month-5  shot_zone_basic-Left Corner 3  \\\n",
       "1               0             0                              0   \n",
       "2               0             0                              0   \n",
       "3               0             0                              0   \n",
       "4               0             0                              0   \n",
       "5               0             0                              0   \n",
       "\n",
       "   shot_zone_basic-Restricted Area  game_year-1999  \n",
       "1                                0               0  \n",
       "2                                0               0  \n",
       "3                                0               0  \n",
       "4                                1               0  \n",
       "5                                0               0  "
      ]
     },
     "execution_count": 11,
     "metadata": {},
     "output_type": "execute_result"
    }
   ],
   "source": [
    "LR_X = X[Lasso_selected_features_]\n",
    "LR_X.head()"
   ]
  },
  {
   "cell_type": "markdown",
   "metadata": {},
   "source": [
    "### [2] Random forest"
   ]
  },
  {
   "cell_type": "code",
   "execution_count": 12,
   "metadata": {
    "scrolled": true
   },
   "outputs": [
    {
     "data": {
      "text/plain": [
       "RandomForestClassifier(bootstrap=True, class_weight=None, criterion='gini',\n",
       "            max_depth=None, max_features=10, max_leaf_nodes=None,\n",
       "            min_impurity_split=1e-07, min_samples_leaf=1,\n",
       "            min_samples_split=2, min_weight_fraction_leaf=0.0,\n",
       "            n_estimators=100, n_jobs=1, oob_score=False, random_state=None,\n",
       "            verbose=0, warm_start=False)"
      ]
     },
     "execution_count": 12,
     "metadata": {},
     "output_type": "execute_result"
    }
   ],
   "source": [
    "from sklearn.ensemble import RandomForestClassifier\n",
    "num_trees = 100\n",
    "num_features = 10\n",
    "\n",
    "model = RandomForestClassifier(n_estimators=num_trees, max_features=num_features)\n",
    "model.fit(X, y)"
   ]
  },
  {
   "cell_type": "code",
   "execution_count": 14,
   "metadata": {
    "collapsed": true
   },
   "outputs": [],
   "source": [
    "rf_index_list = np.arange(len(model.feature_importances_))"
   ]
  },
  {
   "cell_type": "code",
   "execution_count": 15,
   "metadata": {
    "collapsed": true
   },
   "outputs": [],
   "source": [
    "# Lasso와는 coefficient form이 달라 같은 함수를 적용할 수 없음\n",
    "# Logic은 동일\n",
    "\n",
    "rf_index_list = np.arange(len(model.feature_importances_))\n",
    "rf_coef_list = []\n",
    "\n",
    "for index in rf_index_list:\n",
    "    rf_coef_list.append(model.feature_importances_[index])\n",
    "\n",
    "rf_coef_list, rf_index_list = (list(t) for t in zip(*sorted(zip(rf_coef_list, rf_index_list), reverse=True)))\n",
    "\n",
    "important_features = []\n",
    "for coef, index in zip(rf_coef_list, rf_index_list):\n",
    "    important_features.append(X.columns[index])\n",
    "\n",
    "RF_selected_features = important_features[:20]"
   ]
  },
  {
   "cell_type": "code",
   "execution_count": 20,
   "metadata": {},
   "outputs": [
    {
     "name": "stdout",
     "output_type": "stream",
     "text": [
      "shot_id\n",
      "shot_distance\n",
      "action_type-Jump Shot\n",
      "home_play\n",
      "period-3\n",
      "period-1\n",
      "period-2\n",
      "period-4\n",
      "action_type-Layup Shot\n",
      "game_month-3\n",
      "game_month-1\n",
      "combined_shot_type-Dunk\n",
      "game_month-2\n",
      "game_month-12\n",
      "game_month-4\n",
      "game_month-11\n",
      "action_type-Driving Layup Shot\n",
      "loc_y-(-10.6, 22.8]\n",
      "opponent-HOU\n",
      "opponent-SAS\n"
     ]
    }
   ],
   "source": [
    "for feature in RF_selected_features:\n",
    "    print(feature)"
   ]
  },
  {
   "cell_type": "code",
   "execution_count": 21,
   "metadata": {
    "scrolled": true
   },
   "outputs": [
    {
     "data": {
      "text/html": [
       "<div>\n",
       "<table border=\"1\" class=\"dataframe\">\n",
       "  <thead>\n",
       "    <tr style=\"text-align: right;\">\n",
       "      <th></th>\n",
       "      <th>shot_id</th>\n",
       "      <th>shot_distance</th>\n",
       "      <th>action_type-Jump Shot</th>\n",
       "      <th>home_play</th>\n",
       "      <th>period-3</th>\n",
       "      <th>period-1</th>\n",
       "      <th>period-2</th>\n",
       "      <th>period-4</th>\n",
       "      <th>action_type-Layup Shot</th>\n",
       "      <th>game_month-3</th>\n",
       "      <th>game_month-1</th>\n",
       "      <th>combined_shot_type-Dunk</th>\n",
       "      <th>game_month-2</th>\n",
       "      <th>game_month-12</th>\n",
       "      <th>game_month-4</th>\n",
       "      <th>game_month-11</th>\n",
       "      <th>action_type-Driving Layup Shot</th>\n",
       "      <th>loc_y-(-10.6, 22.8]</th>\n",
       "      <th>opponent-HOU</th>\n",
       "      <th>opponent-SAS</th>\n",
       "    </tr>\n",
       "  </thead>\n",
       "  <tbody>\n",
       "    <tr>\n",
       "      <th>1</th>\n",
       "      <td>2</td>\n",
       "      <td>15</td>\n",
       "      <td>1</td>\n",
       "      <td>0</td>\n",
       "      <td>0</td>\n",
       "      <td>1</td>\n",
       "      <td>0</td>\n",
       "      <td>0</td>\n",
       "      <td>0</td>\n",
       "      <td>0</td>\n",
       "      <td>0</td>\n",
       "      <td>0</td>\n",
       "      <td>0</td>\n",
       "      <td>0</td>\n",
       "      <td>0</td>\n",
       "      <td>0</td>\n",
       "      <td>0</td>\n",
       "      <td>1</td>\n",
       "      <td>0</td>\n",
       "      <td>0</td>\n",
       "    </tr>\n",
       "    <tr>\n",
       "      <th>2</th>\n",
       "      <td>3</td>\n",
       "      <td>16</td>\n",
       "      <td>1</td>\n",
       "      <td>0</td>\n",
       "      <td>0</td>\n",
       "      <td>1</td>\n",
       "      <td>0</td>\n",
       "      <td>0</td>\n",
       "      <td>0</td>\n",
       "      <td>0</td>\n",
       "      <td>0</td>\n",
       "      <td>0</td>\n",
       "      <td>0</td>\n",
       "      <td>0</td>\n",
       "      <td>0</td>\n",
       "      <td>0</td>\n",
       "      <td>0</td>\n",
       "      <td>0</td>\n",
       "      <td>0</td>\n",
       "      <td>0</td>\n",
       "    </tr>\n",
       "    <tr>\n",
       "      <th>3</th>\n",
       "      <td>4</td>\n",
       "      <td>22</td>\n",
       "      <td>1</td>\n",
       "      <td>0</td>\n",
       "      <td>0</td>\n",
       "      <td>1</td>\n",
       "      <td>0</td>\n",
       "      <td>0</td>\n",
       "      <td>0</td>\n",
       "      <td>0</td>\n",
       "      <td>0</td>\n",
       "      <td>0</td>\n",
       "      <td>0</td>\n",
       "      <td>0</td>\n",
       "      <td>0</td>\n",
       "      <td>0</td>\n",
       "      <td>0</td>\n",
       "      <td>0</td>\n",
       "      <td>0</td>\n",
       "      <td>0</td>\n",
       "    </tr>\n",
       "    <tr>\n",
       "      <th>4</th>\n",
       "      <td>5</td>\n",
       "      <td>0</td>\n",
       "      <td>0</td>\n",
       "      <td>0</td>\n",
       "      <td>0</td>\n",
       "      <td>0</td>\n",
       "      <td>1</td>\n",
       "      <td>0</td>\n",
       "      <td>0</td>\n",
       "      <td>0</td>\n",
       "      <td>0</td>\n",
       "      <td>1</td>\n",
       "      <td>0</td>\n",
       "      <td>0</td>\n",
       "      <td>0</td>\n",
       "      <td>0</td>\n",
       "      <td>0</td>\n",
       "      <td>1</td>\n",
       "      <td>0</td>\n",
       "      <td>0</td>\n",
       "    </tr>\n",
       "    <tr>\n",
       "      <th>5</th>\n",
       "      <td>6</td>\n",
       "      <td>14</td>\n",
       "      <td>1</td>\n",
       "      <td>0</td>\n",
       "      <td>1</td>\n",
       "      <td>0</td>\n",
       "      <td>0</td>\n",
       "      <td>0</td>\n",
       "      <td>0</td>\n",
       "      <td>0</td>\n",
       "      <td>0</td>\n",
       "      <td>0</td>\n",
       "      <td>0</td>\n",
       "      <td>0</td>\n",
       "      <td>0</td>\n",
       "      <td>0</td>\n",
       "      <td>0</td>\n",
       "      <td>0</td>\n",
       "      <td>0</td>\n",
       "      <td>0</td>\n",
       "    </tr>\n",
       "  </tbody>\n",
       "</table>\n",
       "</div>"
      ],
      "text/plain": [
       "   shot_id  shot_distance  action_type-Jump Shot  home_play  period-3  \\\n",
       "1        2             15                      1          0         0   \n",
       "2        3             16                      1          0         0   \n",
       "3        4             22                      1          0         0   \n",
       "4        5              0                      0          0         0   \n",
       "5        6             14                      1          0         1   \n",
       "\n",
       "   period-1  period-2  period-4  action_type-Layup Shot  game_month-3  \\\n",
       "1         1         0         0                       0             0   \n",
       "2         1         0         0                       0             0   \n",
       "3         1         0         0                       0             0   \n",
       "4         0         1         0                       0             0   \n",
       "5         0         0         0                       0             0   \n",
       "\n",
       "   game_month-1  combined_shot_type-Dunk  game_month-2  game_month-12  \\\n",
       "1             0                        0             0              0   \n",
       "2             0                        0             0              0   \n",
       "3             0                        0             0              0   \n",
       "4             0                        1             0              0   \n",
       "5             0                        0             0              0   \n",
       "\n",
       "   game_month-4  game_month-11  action_type-Driving Layup Shot  \\\n",
       "1             0              0                               0   \n",
       "2             0              0                               0   \n",
       "3             0              0                               0   \n",
       "4             0              0                               0   \n",
       "5             0              0                               0   \n",
       "\n",
       "   loc_y-(-10.6, 22.8]  opponent-HOU  opponent-SAS  \n",
       "1                    1             0             0  \n",
       "2                    0             0             0  \n",
       "3                    0             0             0  \n",
       "4                    1             0             0  \n",
       "5                    0             0             0  "
      ]
     },
     "execution_count": 21,
     "metadata": {},
     "output_type": "execute_result"
    }
   ],
   "source": [
    "RF_X = X[RF_selected_features]\n",
    "RF_X.head()"
   ]
  },
  {
   "cell_type": "markdown",
   "metadata": {},
   "source": [
    "## 4 Model"
   ]
  },
  {
   "cell_type": "markdown",
   "metadata": {},
   "source": [
    "### 4-1 Base model\n",
    "- 가장 기본적인 모델, Logistic regression, LDA, KNN, Decision Tree, Naive Bayes, SVM을 사용하여 평가해보자"
   ]
  },
  {
   "cell_type": "code",
   "execution_count": 22,
   "metadata": {},
   "outputs": [],
   "source": [
    "from sklearn.cross_validation import KFold, cross_val_score\n",
    "\n",
    "# setting parameters\n",
    "seed = 7\n",
    "processors=1\n",
    "num_folds=5\n",
    "num_instances=len(X)\n",
    "scoring='log_loss'\n",
    "\n",
    "kfold = KFold(n=num_instances, n_folds=num_folds, random_state=seed)"
   ]
  },
  {
   "cell_type": "code",
   "execution_count": 23,
   "metadata": {
    "collapsed": true
   },
   "outputs": [],
   "source": [
    "# base model를 활용하기 위한 package\n",
    "from sklearn.pipeline import Pipeline, FeatureUnion\n",
    "from sklearn.linear_model import LogisticRegression\n",
    "from sklearn.discriminant_analysis import LinearDiscriminantAnalysis\n",
    "from sklearn.neighbors import KNeighborsClassifier\n",
    "from sklearn.tree import DecisionTreeClassifier\n",
    "from sklearn.naive_bayes import GaussianNB\n",
    "from sklearn.svm import SVC"
   ]
  },
  {
   "cell_type": "code",
   "execution_count": 24,
   "metadata": {},
   "outputs": [
    {
     "name": "stdout",
     "output_type": "stream",
     "text": [
      "LR: (0.664) +/- (0.015)\n"
     ]
    },
    {
     "name": "stderr",
     "output_type": "stream",
     "text": [
      "/Users/kth/anaconda3/envs/ml_edu/lib/python3.5/site-packages/sklearn/discriminant_analysis.py:387: UserWarning: Variables are collinear.\n",
      "  warnings.warn(\"Variables are collinear.\")\n",
      "/Users/kth/anaconda3/envs/ml_edu/lib/python3.5/site-packages/sklearn/discriminant_analysis.py:387: UserWarning: Variables are collinear.\n",
      "  warnings.warn(\"Variables are collinear.\")\n",
      "/Users/kth/anaconda3/envs/ml_edu/lib/python3.5/site-packages/sklearn/discriminant_analysis.py:387: UserWarning: Variables are collinear.\n",
      "  warnings.warn(\"Variables are collinear.\")\n",
      "/Users/kth/anaconda3/envs/ml_edu/lib/python3.5/site-packages/sklearn/discriminant_analysis.py:387: UserWarning: Variables are collinear.\n",
      "  warnings.warn(\"Variables are collinear.\")\n",
      "/Users/kth/anaconda3/envs/ml_edu/lib/python3.5/site-packages/sklearn/discriminant_analysis.py:387: UserWarning: Variables are collinear.\n",
      "  warnings.warn(\"Variables are collinear.\")\n"
     ]
    },
    {
     "name": "stdout",
     "output_type": "stream",
     "text": [
      "LDA: (0.680) +/- (0.003)\n",
      "K-NN: (0.489) +/- (0.047)\n",
      "CART: (0.582) +/- (0.018)\n",
      "NB: (0.628) +/- (0.013)\n",
      "\n",
      "\n",
      "LR: (0.664) +/- (0.015)\n"
     ]
    },
    {
     "name": "stderr",
     "output_type": "stream",
     "text": [
      "/Users/kth/anaconda3/envs/ml_edu/lib/python3.5/site-packages/sklearn/discriminant_analysis.py:387: UserWarning: Variables are collinear.\n",
      "  warnings.warn(\"Variables are collinear.\")\n",
      "/Users/kth/anaconda3/envs/ml_edu/lib/python3.5/site-packages/sklearn/discriminant_analysis.py:387: UserWarning: Variables are collinear.\n",
      "  warnings.warn(\"Variables are collinear.\")\n",
      "/Users/kth/anaconda3/envs/ml_edu/lib/python3.5/site-packages/sklearn/discriminant_analysis.py:387: UserWarning: Variables are collinear.\n",
      "  warnings.warn(\"Variables are collinear.\")\n",
      "/Users/kth/anaconda3/envs/ml_edu/lib/python3.5/site-packages/sklearn/discriminant_analysis.py:387: UserWarning: Variables are collinear.\n",
      "  warnings.warn(\"Variables are collinear.\")\n",
      "/Users/kth/anaconda3/envs/ml_edu/lib/python3.5/site-packages/sklearn/discriminant_analysis.py:387: UserWarning: Variables are collinear.\n",
      "  warnings.warn(\"Variables are collinear.\")\n"
     ]
    },
    {
     "name": "stdout",
     "output_type": "stream",
     "text": [
      "LDA: (0.680) +/- (0.003)\n",
      "K-NN: (0.489) +/- (0.047)\n",
      "CART: (0.577) +/- (0.016)\n",
      "NB: (0.628) +/- (0.013)\n",
      "\n",
      "\n",
      "LR: (0.664) +/- (0.015)\n"
     ]
    },
    {
     "name": "stderr",
     "output_type": "stream",
     "text": [
      "/Users/kth/anaconda3/envs/ml_edu/lib/python3.5/site-packages/sklearn/discriminant_analysis.py:387: UserWarning: Variables are collinear.\n",
      "  warnings.warn(\"Variables are collinear.\")\n",
      "/Users/kth/anaconda3/envs/ml_edu/lib/python3.5/site-packages/sklearn/discriminant_analysis.py:387: UserWarning: Variables are collinear.\n",
      "  warnings.warn(\"Variables are collinear.\")\n",
      "/Users/kth/anaconda3/envs/ml_edu/lib/python3.5/site-packages/sklearn/discriminant_analysis.py:387: UserWarning: Variables are collinear.\n",
      "  warnings.warn(\"Variables are collinear.\")\n",
      "/Users/kth/anaconda3/envs/ml_edu/lib/python3.5/site-packages/sklearn/discriminant_analysis.py:387: UserWarning: Variables are collinear.\n",
      "  warnings.warn(\"Variables are collinear.\")\n",
      "/Users/kth/anaconda3/envs/ml_edu/lib/python3.5/site-packages/sklearn/discriminant_analysis.py:387: UserWarning: Variables are collinear.\n",
      "  warnings.warn(\"Variables are collinear.\")\n"
     ]
    },
    {
     "name": "stdout",
     "output_type": "stream",
     "text": [
      "LDA: (0.680) +/- (0.003)\n",
      "K-NN: (0.489) +/- (0.047)\n",
      "CART: (0.582) +/- (0.020)\n",
      "NB: (0.628) +/- (0.013)\n",
      "\n",
      "\n"
     ]
    }
   ],
   "source": [
    "# Prepare some basic models\n",
    "models = []\n",
    "models.append(('LR', LogisticRegression()))\n",
    "models.append(('LDA', LinearDiscriminantAnalysis()))\n",
    "models.append(('K-NN', KNeighborsClassifier(n_neighbors=5)))\n",
    "models.append(('CART', DecisionTreeClassifier()))\n",
    "models.append(('NB', GaussianNB()))\n",
    "\n",
    "results = []\n",
    "names = []\n",
    "\n",
    "for name, model in models:\n",
    "    cv_results = cross_val_score(model, X, y, cv=kfold, n_jobs=processors) # accuracy를 보려면 scoring을 지우면 default처리\n",
    "    results.append(cv_results)\n",
    "    names.append(name)\n",
    "    print(\"{0}: ({1:.3f}) +/- ({2:.3f})\".format(name, cv_results.mean(), cv_results.std()))   \n",
    "print('\\n')\n",
    "\n",
    "for name, model in models:\n",
    "    cv_results = cross_val_score(model, X, y, cv=kfold, n_jobs=processors) # accuracy를 보려면 scoring을 지우면 default처리\n",
    "    results.append(cv_results)\n",
    "    names.append(name)\n",
    "    print(\"{0}: ({1:.3f}) +/- ({2:.3f})\".format(name, cv_results.mean(), cv_results.std()))\n",
    "print('\\n')\n",
    "\n",
    "for name, model in models:\n",
    "    cv_results = cross_val_score(model, X, y, cv=kfold, n_jobs=processors) # accuracy를 보려면 scoring을 지우면 default처리\n",
    "    results.append(cv_results)\n",
    "    names.append(name)\n",
    "    print(\"{0}: ({1:.3f}) +/- ({2:.3f})\".format(name, cv_results.mean(), cv_results.std()))\n",
    "print('\\n')    "
   ]
  },
  {
   "cell_type": "markdown",
   "metadata": {},
   "source": [
    "### 4-2 Ensemble"
   ]
  },
  {
   "cell_type": "code",
   "execution_count": 25,
   "metadata": {
    "collapsed": true
   },
   "outputs": [],
   "source": [
    "# 대표적인 ensemble models\n",
    "from sklearn.tree import DecisionTreeClassifier\n",
    "\n",
    "from sklearn.ensemble import BaggingClassifier, ExtraTreesClassifier, GradientBoostingClassifier\n",
    "from sklearn.ensemble import VotingClassifier, RandomForestClassifier, AdaBoostClassifier"
   ]
  },
  {
   "cell_type": "markdown",
   "metadata": {},
   "source": [
    "### Bagging (Bootstrap Aggregation)\n",
    "- Involves taking multiple samples from the training dataset (with replacement) and training a model for each sample. The final output prediction is averaged across the predictions of all of the sub-models."
   ]
  },
  {
   "cell_type": "code",
   "execution_count": 26,
   "metadata": {},
   "outputs": [
    {
     "name": "stdout",
     "output_type": "stream",
     "text": [
      "(0.651) +/- (0.016)\n"
     ]
    }
   ],
   "source": [
    "cart = DecisionTreeClassifier()\n",
    "num_trees = 100\n",
    "\n",
    "model = BaggingClassifier(base_estimator=cart, n_estimators=num_trees, random_state=seed)\n",
    "\n",
    "results = cross_val_score(model, X, y, cv=kfold, n_jobs=processors)\n",
    "print(\"({0:.3f}) +/- ({1:.3f})\".format(results.mean(), results.std()))"
   ]
  },
  {
   "cell_type": "markdown",
   "metadata": {},
   "source": [
    "### Random Forest\n",
    "- An extension to bagged decision trees. Samples of the training dataset are taken with replacement, but the trees are constructed in a way that reduces the correlation between individual classifiers. Also the tree size is much slowe due to max_features"
   ]
  },
  {
   "cell_type": "code",
   "execution_count": 27,
   "metadata": {},
   "outputs": [
    {
     "name": "stdout",
     "output_type": "stream",
     "text": [
      "(0.671) +/- (0.004)\n"
     ]
    }
   ],
   "source": [
    "num_trees = 100\n",
    "num_features = 10\n",
    "\n",
    "model = RandomForestClassifier(n_estimators=num_trees, max_features=num_features)\n",
    "\n",
    "results = cross_val_score(model, X, y, cv=kfold, n_jobs=processors)\n",
    "print(\"({0:.3f}) +/- ({1:.3f})\".format(results.mean(), results.std()))"
   ]
  },
  {
   "cell_type": "markdown",
   "metadata": {},
   "source": [
    "## Boosting\n",
    "- Boosting ensembles creates a sequence of models that attemtp to correct the mistakes of the models before them in the sequence. Once created, the models make predictions which may be weighted by their demonstrated accuracy and the results are combined to create a final output prediction."
   ]
  },
  {
   "cell_type": "code",
   "execution_count": 28,
   "metadata": {},
   "outputs": [
    {
     "name": "stdout",
     "output_type": "stream",
     "text": [
      "(0.661) +/- (0.036)\n"
     ]
    }
   ],
   "source": [
    "model = AdaBoostClassifier(n_estimators=100, random_state=seed)\n",
    "\n",
    "results = cross_val_score(model, X, y, cv=kfold, n_jobs=processors)\n",
    "print(\"({0:.3f}) +/- ({1:.3f})\".format(results.mean(), results.std()))"
   ]
  },
  {
   "cell_type": "code",
   "execution_count": 30,
   "metadata": {
    "collapsed": true
   },
   "outputs": [],
   "source": [
    "import time"
   ]
  },
  {
   "cell_type": "code",
   "execution_count": 34,
   "metadata": {},
   "outputs": [
    {
     "data": {
      "text/plain": [
       "1495453836.899004"
      ]
     },
     "execution_count": 34,
     "metadata": {},
     "output_type": "execute_result"
    }
   ],
   "source": [
    "time.time()"
   ]
  },
  {
   "cell_type": "code",
   "execution_count": 35,
   "metadata": {},
   "outputs": [
    {
     "name": "stdout",
     "output_type": "stream",
     "text": [
      "4.000493049621582\n"
     ]
    }
   ],
   "source": [
    "current_time = time.time()\n",
    "\n",
    "time.sleep(4)\n",
    "\n",
    "print(time.time() - current_time)"
   ]
  },
  {
   "cell_type": "code",
   "execution_count": 36,
   "metadata": {},
   "outputs": [
    {
     "name": "stdout",
     "output_type": "stream",
     "text": [
      "CPU times: user 2 µs, sys: 0 ns, total: 2 µs\n",
      "Wall time: 5.01 µs\n"
     ]
    }
   ],
   "source": [
    "%time\n",
    "time.sleep(4)"
   ]
  },
  {
   "cell_type": "code",
   "execution_count": null,
   "metadata": {
    "collapsed": true
   },
   "outputs": [],
   "source": []
  }
 ],
 "metadata": {
  "kernelspec": {
   "display_name": "Python [default]",
   "language": "python",
   "name": "python3"
  },
  "language_info": {
   "codemirror_mode": {
    "name": "ipython",
    "version": 3
   },
   "file_extension": ".py",
   "mimetype": "text/x-python",
   "name": "python",
   "nbconvert_exporter": "python",
   "pygments_lexer": "ipython3",
   "version": "3.5.3"
  }
 },
 "nbformat": 4,
 "nbformat_minor": 1
}
