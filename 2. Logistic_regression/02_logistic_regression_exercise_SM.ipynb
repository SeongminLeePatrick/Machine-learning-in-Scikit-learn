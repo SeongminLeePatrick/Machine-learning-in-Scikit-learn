{
 "cells": [
  {
   "cell_type": "markdown",
   "metadata": {},
   "source": [
    "# Exercise"
   ]
  },
  {
   "cell_type": "markdown",
   "metadata": {},
   "source": [
    "## Logistic regression using Titanic data\n",
    "- Improve AUROC"
   ]
  },
  {
   "cell_type": "code",
   "execution_count": 1,
   "metadata": {
    "collapsed": false
   },
   "outputs": [
    {
     "data": {
      "text/html": [
       "<div>\n",
       "<table border=\"1\" class=\"dataframe\">\n",
       "  <thead>\n",
       "    <tr style=\"text-align: right;\">\n",
       "      <th></th>\n",
       "      <th>Survived</th>\n",
       "      <th>Pclass</th>\n",
       "      <th>Name</th>\n",
       "      <th>Sex</th>\n",
       "      <th>Age</th>\n",
       "      <th>SibSp</th>\n",
       "      <th>Parch</th>\n",
       "      <th>Ticket</th>\n",
       "      <th>Fare</th>\n",
       "      <th>Cabin</th>\n",
       "      <th>Embarked</th>\n",
       "    </tr>\n",
       "    <tr>\n",
       "      <th>PassengerId</th>\n",
       "      <th></th>\n",
       "      <th></th>\n",
       "      <th></th>\n",
       "      <th></th>\n",
       "      <th></th>\n",
       "      <th></th>\n",
       "      <th></th>\n",
       "      <th></th>\n",
       "      <th></th>\n",
       "      <th></th>\n",
       "      <th></th>\n",
       "    </tr>\n",
       "  </thead>\n",
       "  <tbody>\n",
       "    <tr>\n",
       "      <th>1</th>\n",
       "      <td>0</td>\n",
       "      <td>3</td>\n",
       "      <td>Braund, Mr. Owen Harris</td>\n",
       "      <td>male</td>\n",
       "      <td>22.0</td>\n",
       "      <td>1</td>\n",
       "      <td>0</td>\n",
       "      <td>A/5 21171</td>\n",
       "      <td>7.2500</td>\n",
       "      <td>NaN</td>\n",
       "      <td>S</td>\n",
       "    </tr>\n",
       "    <tr>\n",
       "      <th>2</th>\n",
       "      <td>1</td>\n",
       "      <td>1</td>\n",
       "      <td>Cumings, Mrs. John Bradley (Florence Briggs Th...</td>\n",
       "      <td>female</td>\n",
       "      <td>38.0</td>\n",
       "      <td>1</td>\n",
       "      <td>0</td>\n",
       "      <td>PC 17599</td>\n",
       "      <td>71.2833</td>\n",
       "      <td>C85</td>\n",
       "      <td>C</td>\n",
       "    </tr>\n",
       "    <tr>\n",
       "      <th>3</th>\n",
       "      <td>1</td>\n",
       "      <td>3</td>\n",
       "      <td>Heikkinen, Miss. Laina</td>\n",
       "      <td>female</td>\n",
       "      <td>26.0</td>\n",
       "      <td>0</td>\n",
       "      <td>0</td>\n",
       "      <td>STON/O2. 3101282</td>\n",
       "      <td>7.9250</td>\n",
       "      <td>NaN</td>\n",
       "      <td>S</td>\n",
       "    </tr>\n",
       "    <tr>\n",
       "      <th>4</th>\n",
       "      <td>1</td>\n",
       "      <td>1</td>\n",
       "      <td>Futrelle, Mrs. Jacques Heath (Lily May Peel)</td>\n",
       "      <td>female</td>\n",
       "      <td>35.0</td>\n",
       "      <td>1</td>\n",
       "      <td>0</td>\n",
       "      <td>113803</td>\n",
       "      <td>53.1000</td>\n",
       "      <td>C123</td>\n",
       "      <td>S</td>\n",
       "    </tr>\n",
       "    <tr>\n",
       "      <th>5</th>\n",
       "      <td>0</td>\n",
       "      <td>3</td>\n",
       "      <td>Allen, Mr. William Henry</td>\n",
       "      <td>male</td>\n",
       "      <td>35.0</td>\n",
       "      <td>0</td>\n",
       "      <td>0</td>\n",
       "      <td>373450</td>\n",
       "      <td>8.0500</td>\n",
       "      <td>NaN</td>\n",
       "      <td>S</td>\n",
       "    </tr>\n",
       "  </tbody>\n",
       "</table>\n",
       "</div>"
      ],
      "text/plain": [
       "             Survived  Pclass  \\\n",
       "PassengerId                     \n",
       "1                   0       3   \n",
       "2                   1       1   \n",
       "3                   1       3   \n",
       "4                   1       1   \n",
       "5                   0       3   \n",
       "\n",
       "                                                          Name     Sex   Age  \\\n",
       "PassengerId                                                                    \n",
       "1                                      Braund, Mr. Owen Harris    male  22.0   \n",
       "2            Cumings, Mrs. John Bradley (Florence Briggs Th...  female  38.0   \n",
       "3                                       Heikkinen, Miss. Laina  female  26.0   \n",
       "4                 Futrelle, Mrs. Jacques Heath (Lily May Peel)  female  35.0   \n",
       "5                                     Allen, Mr. William Henry    male  35.0   \n",
       "\n",
       "             SibSp  Parch            Ticket     Fare Cabin Embarked  \n",
       "PassengerId                                                          \n",
       "1                1      0         A/5 21171   7.2500   NaN        S  \n",
       "2                1      0          PC 17599  71.2833   C85        C  \n",
       "3                0      0  STON/O2. 3101282   7.9250   NaN        S  \n",
       "4                1      0            113803  53.1000  C123        S  \n",
       "5                0      0            373450   8.0500   NaN        S  "
      ]
     },
     "execution_count": 1,
     "metadata": {},
     "output_type": "execute_result"
    }
   ],
   "source": [
    "import numpy as np\n",
    "import pandas as pd\n",
    "import warnings\n",
    "import matplotlib.pyplot as plt\n",
    "%matplotlib inline\n",
    "\n",
    "# Read the data\n",
    "titanic = pd.read_csv('data/titanic.csv', index_col='PassengerId')\n",
    "# url = 'https://raw.githubusercontent.com/justmarkham/DAT8/master/data/titanic.csv'\n",
    "# titanic = pd.read_csv(url, index_col='PassengerId')\n",
    "titanic.head()"
   ]
  },
  {
   "cell_type": "code",
   "execution_count": 2,
   "metadata": {
    "collapsed": false,
    "scrolled": true
   },
   "outputs": [
    {
     "data": {
      "text/plain": [
       "array([[<matplotlib.axes._subplots.AxesSubplot object at 0x0000013846185DA0>,\n",
       "        <matplotlib.axes._subplots.AxesSubplot object at 0x00000138465712E8>],\n",
       "       [<matplotlib.axes._subplots.AxesSubplot object at 0x000001384658CC50>,\n",
       "        <matplotlib.axes._subplots.AxesSubplot object at 0x00000138465F9CC0>],\n",
       "       [<matplotlib.axes._subplots.AxesSubplot object at 0x0000013846643E10>,\n",
       "        <matplotlib.axes._subplots.AxesSubplot object at 0x0000013846681DD8>]], dtype=object)"
      ]
     },
     "execution_count": 2,
     "metadata": {},
     "output_type": "execute_result"
    },
    {
     "data": {
      "image/png": "[encoded data removed]",
      "text/plain": [
       "<matplotlib.figure.Figure at 0x13843544a58>"
      ]
     },
     "metadata": {},
     "output_type": "display_data"
    }
   ],
   "source": [
    "titanic.hist()"
   ]
  },
  {
   "cell_type": "code",
   "execution_count": 3,
   "metadata": {
    "collapsed": false
   },
   "outputs": [
    {
     "data": {
      "text/plain": [
       "<matplotlib.text.Text at 0x138467a84e0>"
      ]
     },
     "execution_count": 3,
     "metadata": {},
     "output_type": "execute_result"
    },
    {
     "data": {
      "image/png": "[encoded data removed]",
      "text/plain": [
       "<matplotlib.figure.Figure at 0x13846d6d940>"
      ]
     },
     "metadata": {},
     "output_type": "display_data"
    }
   ],
   "source": [
    "# x = ['Pclass', 'Age', 'Parch']\n",
    "\n",
    "plt.scatter(titanic.Fare, titanic.Survived)\n",
    "plt.xlabel('Fare')\n",
    "plt.ylabel('Survived')"
   ]
  },
  {
   "cell_type": "code",
   "execution_count": 4,
   "metadata": {
    "collapsed": false
   },
   "outputs": [],
   "source": [
    "embark_dum = pd.get_dummies(titanic.Embarked, prefix='port')\n",
    "embark_dum.drop(embark_dum.columns[2], axis=1, inplace=True)\n",
    "\n",
    "titanic['Gender'] = titanic.Sex.map({'male':1, 'female':0})\n",
    "titanic_new = pd.concat([titanic, embark_dum], axis=1)\n",
    "titanic.new = titanic_new.drop(['Sex', 'Name', 'Ticket'], axis=1)"
   ]
  },
  {
   "cell_type": "code",
   "execution_count": 5,
   "metadata": {
    "collapsed": false
   },
   "outputs": [
    {
     "data": {
      "text/html": [
       "<div>\n",
       "<table border=\"1\" class=\"dataframe\">\n",
       "  <thead>\n",
       "    <tr style=\"text-align: right;\">\n",
       "      <th></th>\n",
       "      <th>Survived</th>\n",
       "      <th>Pclass</th>\n",
       "      <th>Name</th>\n",
       "      <th>Sex</th>\n",
       "      <th>Age</th>\n",
       "      <th>SibSp</th>\n",
       "      <th>Parch</th>\n",
       "      <th>Ticket</th>\n",
       "      <th>Fare</th>\n",
       "      <th>Cabin</th>\n",
       "      <th>Embarked</th>\n",
       "      <th>Gender</th>\n",
       "      <th>port_C</th>\n",
       "      <th>port_Q</th>\n",
       "    </tr>\n",
       "    <tr>\n",
       "      <th>PassengerId</th>\n",
       "      <th></th>\n",
       "      <th></th>\n",
       "      <th></th>\n",
       "      <th></th>\n",
       "      <th></th>\n",
       "      <th></th>\n",
       "      <th></th>\n",
       "      <th></th>\n",
       "      <th></th>\n",
       "      <th></th>\n",
       "      <th></th>\n",
       "      <th></th>\n",
       "      <th></th>\n",
       "      <th></th>\n",
       "    </tr>\n",
       "  </thead>\n",
       "  <tbody>\n",
       "    <tr>\n",
       "      <th>1</th>\n",
       "      <td>0</td>\n",
       "      <td>3</td>\n",
       "      <td>Braund, Mr. Owen Harris</td>\n",
       "      <td>male</td>\n",
       "      <td>22.0</td>\n",
       "      <td>1</td>\n",
       "      <td>0</td>\n",
       "      <td>A/5 21171</td>\n",
       "      <td>7.2500</td>\n",
       "      <td>NaN</td>\n",
       "      <td>S</td>\n",
       "      <td>1</td>\n",
       "      <td>0.0</td>\n",
       "      <td>0.0</td>\n",
       "    </tr>\n",
       "    <tr>\n",
       "      <th>2</th>\n",
       "      <td>1</td>\n",
       "      <td>1</td>\n",
       "      <td>Cumings, Mrs. John Bradley (Florence Briggs Th...</td>\n",
       "      <td>female</td>\n",
       "      <td>38.0</td>\n",
       "      <td>1</td>\n",
       "      <td>0</td>\n",
       "      <td>PC 17599</td>\n",
       "      <td>71.2833</td>\n",
       "      <td>C85</td>\n",
       "      <td>C</td>\n",
       "      <td>0</td>\n",
       "      <td>1.0</td>\n",
       "      <td>0.0</td>\n",
       "    </tr>\n",
       "    <tr>\n",
       "      <th>3</th>\n",
       "      <td>1</td>\n",
       "      <td>3</td>\n",
       "      <td>Heikkinen, Miss. Laina</td>\n",
       "      <td>female</td>\n",
       "      <td>26.0</td>\n",
       "      <td>0</td>\n",
       "      <td>0</td>\n",
       "      <td>STON/O2. 3101282</td>\n",
       "      <td>7.9250</td>\n",
       "      <td>NaN</td>\n",
       "      <td>S</td>\n",
       "      <td>0</td>\n",
       "      <td>0.0</td>\n",
       "      <td>0.0</td>\n",
       "    </tr>\n",
       "    <tr>\n",
       "      <th>4</th>\n",
       "      <td>1</td>\n",
       "      <td>1</td>\n",
       "      <td>Futrelle, Mrs. Jacques Heath (Lily May Peel)</td>\n",
       "      <td>female</td>\n",
       "      <td>35.0</td>\n",
       "      <td>1</td>\n",
       "      <td>0</td>\n",
       "      <td>113803</td>\n",
       "      <td>53.1000</td>\n",
       "      <td>C123</td>\n",
       "      <td>S</td>\n",
       "      <td>0</td>\n",
       "      <td>0.0</td>\n",
       "      <td>0.0</td>\n",
       "    </tr>\n",
       "    <tr>\n",
       "      <th>5</th>\n",
       "      <td>0</td>\n",
       "      <td>3</td>\n",
       "      <td>Allen, Mr. William Henry</td>\n",
       "      <td>male</td>\n",
       "      <td>35.0</td>\n",
       "      <td>0</td>\n",
       "      <td>0</td>\n",
       "      <td>373450</td>\n",
       "      <td>8.0500</td>\n",
       "      <td>NaN</td>\n",
       "      <td>S</td>\n",
       "      <td>1</td>\n",
       "      <td>0.0</td>\n",
       "      <td>0.0</td>\n",
       "    </tr>\n",
       "  </tbody>\n",
       "</table>\n",
       "</div>"
      ],
      "text/plain": [
       "             Survived  Pclass  \\\n",
       "PassengerId                     \n",
       "1                   0       3   \n",
       "2                   1       1   \n",
       "3                   1       3   \n",
       "4                   1       1   \n",
       "5                   0       3   \n",
       "\n",
       "                                                          Name     Sex   Age  \\\n",
       "PassengerId                                                                    \n",
       "1                                      Braund, Mr. Owen Harris    male  22.0   \n",
       "2            Cumings, Mrs. John Bradley (Florence Briggs Th...  female  38.0   \n",
       "3                                       Heikkinen, Miss. Laina  female  26.0   \n",
       "4                 Futrelle, Mrs. Jacques Heath (Lily May Peel)  female  35.0   \n",
       "5                                     Allen, Mr. William Henry    male  35.0   \n",
       "\n",
       "             SibSp  Parch            Ticket     Fare Cabin Embarked  Gender  \\\n",
       "PassengerId                                                                   \n",
       "1                1      0         A/5 21171   7.2500   NaN        S       1   \n",
       "2                1      0          PC 17599  71.2833   C85        C       0   \n",
       "3                0      0  STON/O2. 3101282   7.9250   NaN        S       0   \n",
       "4                1      0            113803  53.1000  C123        S       0   \n",
       "5                0      0            373450   8.0500   NaN        S       1   \n",
       "\n",
       "             port_C  port_Q  \n",
       "PassengerId                  \n",
       "1               0.0     0.0  \n",
       "2               1.0     0.0  \n",
       "3               0.0     0.0  \n",
       "4               0.0     0.0  \n",
       "5               0.0     0.0  "
      ]
     },
     "execution_count": 5,
     "metadata": {},
     "output_type": "execute_result"
    }
   ],
   "source": [
    "titanic_new.head()"
   ]
  },
  {
   "cell_type": "code",
   "execution_count": 6,
   "metadata": {
    "collapsed": false
   },
   "outputs": [],
   "source": [
    "from sklearn.linear_model import LogisticRegression\n",
    "from sklearn import metrics\n",
    "from sklearn.metrics import roc_curve, auc\n",
    "from sklearn.cross_validation import train_test_split\n",
    "# from sklearn.cross_validation import StratifiedKFold\n",
    "\n",
    "def train_test_logistic(X, Y, c_value):\n",
    "    X_train, X_test, Y_train, Y_test = train_test_split(X, Y, test_size=0.3, random_state=123)\n",
    "    model = LogisticRegression(penalty='l2', C=c_value)\n",
    "    model.fit(X_train, Y_train)\n",
    "    \n",
    "    # Save intercept\n",
    "    col_names = list(X.columns.values)\n",
    "    coef = list(zip(col_names, model.coef_[0]))\n",
    "    coef.append(('intercept', model.intercept_[0]))\n",
    "    # Calculate training RMSE and testing RMSE\n",
    "    Y_pred_train = model.predict(X_train)\n",
    "    Y_pred_test = model.predict(X_test)\n",
    "    rmse_train = np.sqrt(metrics.mean_squared_error(Y_train, Y_pred_train))\n",
    "    rmse_test = np.sqrt(metrics.mean_squared_error(Y_test, Y_pred_test))\n",
    "    \n",
    "    # Calculate training R-square and testing R-square\n",
    "    rsquared_train = model.score(X_train, Y_train)\n",
    "    rsquared_test = model.score(X_test, Y_test)\n",
    "    \n",
    "    # AUROC\n",
    "    Y_score = model.decision_function(X_test)\n",
    "    fpr, tpr, _ = roc_curve(Y_test, Y_score)\n",
    "    roc_auc = auc(fpr, tpr)\n",
    "    \n",
    "    # Make result dictionary\n",
    "    result={'coefficient':coef, 'rmse_train':rmse_train, 'rmse_test':rmse_test,\n",
    "           'rsquared_train':rsquared_train, 'rsquared_test':rsquared_test, 'auroc':roc_auc}\n",
    "    \n",
    "    return result"
   ]
  },
  {
   "cell_type": "code",
   "execution_count": 7,
   "metadata": {
    "collapsed": false
   },
   "outputs": [
    {
     "name": "stdout",
     "output_type": "stream",
     "text": [
      "['Pclass', 'SibSp', 'Parch', 'Fare', 'Gender', 'port_C', 'port_Q']\n",
      "     var1     auroc\n",
      "4  Gender  0.776351\n",
      "3    Fare  0.714916\n",
      "0  Pclass  0.703691\n",
      "5  port_C  0.583854\n",
      "2   Parch  0.553721\n",
      "6  port_Q  0.489436\n",
      "1   SibSp  0.458854\n",
      "\n",
      "Best Combination: ['Gender']\n",
      "AUROC: 0.776350540216\n"
     ]
    }
   ],
   "source": [
    "X_full = titanic_new.drop(['Survived','Name', 'Sex', 'Ticket', 'Cabin', 'Embarked', 'Age'], axis=1)\n",
    "f_cols = list(X_full.columns.values)\n",
    "print(f_cols)\n",
    "\n",
    "y = titanic_new.Survived\n",
    "\n",
    "opt_auroc = 0.5\n",
    "result = pd.DataFrame(columns=('var1', 'auroc'))\n",
    "\n",
    "for n in range(len(f_cols)):\n",
    "    sel_cols = [f_cols[n]]\n",
    "    \n",
    "    X = X_full[sel_cols]\n",
    "    train_result = train_test_logistic(X, y, 0.2)\n",
    "    \n",
    "    result.loc[len(result)]=[sel_cols[0], train_result['auroc']]\n",
    "    # result.append('var1': selected_cols[0], 'var2': selected_cols[0], 'auroc': train_result['auroc'])\n",
    "    if (train_result['auroc'] > opt_auroc):\n",
    "        opt_auroc = train_result['auroc']\n",
    "        opt_cols = sel_cols\n",
    "            \n",
    "result = result.sort_values(by='auroc', ascending=False)\n",
    "print(result)\n",
    "print()\n",
    "\n",
    "X = X_full[opt_cols]\n",
    "train_result = train_test_logistic(X, y, 0.2)\n",
    "print(\"Best Combination:\", opt_cols)\n",
    "print(\"AUROC:\", train_result['auroc'])\n",
    "\n",
    "best_cols_1 = opt_cols"
   ]
  },
  {
   "cell_type": "code",
   "execution_count": 8,
   "metadata": {
    "collapsed": false
   },
   "outputs": [
    {
     "name": "stdout",
     "output_type": "stream",
     "text": [
      "      var1    var2     auroc\n",
      "3   Pclass  Gender  0.852761\n",
      "15    Fare  Gender  0.842347\n",
      "18  Gender  port_C  0.807143\n",
      "19  Gender  port_Q  0.785774\n",
      "12   Parch  Gender  0.775090\n",
      "\n",
      "Best Combination: ['Pclass', 'Gender']\n",
      "AUROC: 0.852761104442\n"
     ]
    }
   ],
   "source": [
    "# When num_variable = 2\n",
    "opt_auroc = 0.5\n",
    "result = pd.DataFrame(columns=('var1', 'var2', 'auroc'))\n",
    "\n",
    "for n in range(len(f_cols)):\n",
    "    for m in range(n+1, len(f_cols)):\n",
    "        sel_cols = []\n",
    "        sel_cols.append(f_cols[n])\n",
    "        sel_cols.append(f_cols[m])\n",
    "\n",
    "        X = X_full[sel_cols]\n",
    "        train_result = train_test_logistic(X, y, 0.1)\n",
    "        \n",
    "        result.loc[len(result)]=[sel_cols[0], sel_cols[1], train_result['auroc']]\n",
    "        # result.append('var1': selected_cols[0], 'var2': selected_cols[0], 'auroc': train_result['auroc'])\n",
    "        if (train_result['auroc'] > opt_auroc):\n",
    "            opt_auroc = train_result['auroc']\n",
    "            opt_cols = sel_cols\n",
    "\n",
    "result_sorted = result.sort_values(by='auroc', ascending=False)\n",
    "print(result_sorted[:5])\n",
    "print()\n",
    "\n",
    "X = X_full[opt_cols]\n",
    "train_result = train_test_logistic(X, y, 0.2)\n",
    "print(\"Best Combination:\", opt_cols)\n",
    "print(\"AUROC:\", train_result['auroc'])\n",
    "\n",
    "best_cols_2 = opt_cols"
   ]
  },
  {
   "cell_type": "code",
   "execution_count": 9,
   "metadata": {
    "collapsed": false
   },
   "outputs": [
    {
     "name": "stdout",
     "output_type": "stream",
     "text": [
      "      var1    var2    var3     auroc\n",
      "12  Pclass  Gender  port_C  0.858884\n",
      "9   Pclass    Fare  Gender  0.855792\n",
      "6   Pclass   Parch  Gender  0.853812\n",
      "2   Pclass   SibSp  Gender  0.852041\n",
      "13  Pclass  Gender  port_Q  0.851471\n",
      "\n",
      "Best Combination: ['Pclass', 'Gender', 'port_C']\n",
      "AUROC: 0.858883553421\n"
     ]
    }
   ],
   "source": [
    "# When num_variable = 3\n",
    "opt_auroc = 0.5\n",
    "result = pd.DataFrame(columns=('var1', 'var2', 'var3', 'auroc'))\n",
    "\n",
    "for n in range(len(f_cols)):\n",
    "    for m in range(n+1, len(f_cols)):\n",
    "        for k in range(m+1, len(f_cols)):\n",
    "            sel_cols = []\n",
    "            sel_cols.append(f_cols[n])\n",
    "            sel_cols.append(f_cols[m])\n",
    "            sel_cols.append(f_cols[k])\n",
    "            \n",
    "            X = X_full[sel_cols]\n",
    "            train_result = train_test_logistic(X, y, 0.5)\n",
    "\n",
    "            result.loc[len(result)]=[sel_cols[0], sel_cols[1], sel_cols[2], train_result['auroc']]\n",
    "            if (train_result['auroc'] > opt_auroc):\n",
    "                opt_auroc = train_result['auroc']\n",
    "                opt_cols = sel_cols\n",
    "\n",
    "result_sorted = result.sort_values(by='auroc', ascending=False)\n",
    "print(result_sorted[:5])\n",
    "print()\n",
    "\n",
    "X = X_full[opt_cols]\n",
    "train_result = train_test_logistic(X, y, 0.2)\n",
    "print(\"Best Combination:\", opt_cols)\n",
    "print(\"AUROC:\", train_result['auroc'])\n",
    "\n",
    "best_cols_3 = opt_cols"
   ]
  },
  {
   "cell_type": "code",
   "execution_count": 10,
   "metadata": {
    "collapsed": false
   },
   "outputs": [
    {
     "name": "stdout",
     "output_type": "stream",
     "text": [
      "['Pclass', 'Gender', 'port_C', 'port_Q']\n",
      "AUROC: 0.858103241297\n"
     ]
    }
   ],
   "source": [
    "# How about 4?\n",
    "selected_cols = ['Pclass', 'Gender', 'port_C', 'port_Q']\n",
    "X = X_full[selected_cols]\n",
    "train_result = train_test_logistic(X, y, 0.2)\n",
    "print(selected_cols)\n",
    "print(\"AUROC:\", train_result['auroc'])"
   ]
  },
  {
   "cell_type": "code",
   "execution_count": 11,
   "metadata": {
    "collapsed": false
   },
   "outputs": [],
   "source": [
    "# Optimized\n",
    "# opt_cols = best_cols_1\n",
    "# opt_cols = best_cols_2\n",
    "opt_cols = best_cols_3\n",
    "X_opt = X_full[opt_cols]\n",
    "\n",
    "optimized = LogisticRegression(penalty='l2', C=0.2)\n",
    "X_train, X_test, y_train, y_test = train_test_split(X_opt, y, test_size=0.3, random_state=123)\n",
    "optimized.fit(X_train, y_train)\n",
    "y_score = optimized.decision_function(X_test)\n",
    "fpr, tpr, _ = roc_curve(y_test, y_score)"
   ]
  },
  {
   "cell_type": "code",
   "execution_count": 59,
   "metadata": {
    "collapsed": false
   },
   "outputs": [
    {
     "name": "stdout",
     "output_type": "stream",
     "text": [
      "AUROC: 0.858883553421\n",
      "COEFFICIENT: [('Pclass', -0.50380105648208284), ('Gender', -1.9051315278345822), ('port_C', 0.50038008050249416), ('intercept', 1.7123816055173311)]\n",
      "RSQUARED_TRAIN: 0.781701444623\n",
      "RMSE_TRAIN: 0.467224309489\n",
      "RSQUARED_TEST: 0.798507462687\n",
      "RMSE_TEST: 0.448879201248\n"
     ]
    },
    {
     "data": {
      "image/png": "[encoded data removed]",
      "text/plain": [
       "<matplotlib.figure.Figure at 0x19c967c7438>"
      ]
     },
     "metadata": {},
     "output_type": "display_data"
    }
   ],
   "source": [
    "# Summary\n",
    "result = train_test_logistic(X_opt, y, 0.2)\n",
    "for key in result.keys():\n",
    "    print(\"%s: %s\" % (key.upper(), result[key]))\n",
    "\n",
    "# Plot ROC Curve\n",
    "plt.figure()\n",
    "plt.plot(fpr, tpr, 'r', label = 'ROC curve')\n",
    "plt.plot([0,1], [0,1], 'k--')\n",
    "plt.xlim([0.0, 1.0])\n",
    "plt.ylim([0.0, 1.05])\n",
    "plt.xlabel('False Positive Rate')\n",
    "plt.ylabel('True Positive Rate')\n",
    "plt.title('Receiver operating characteristic example')\n",
    "plt.legend(loc=\"lower right\")\n",
    "plt.show()"
   ]
  }
 ],
 "metadata": {
  "anaconda-cloud": {},
  "kernelspec": {
   "display_name": "Python [conda root]",
   "language": "python",
   "name": "conda-root-py"
  },
  "language_info": {
   "codemirror_mode": {
    "name": "ipython",
    "version": 3
   },
   "file_extension": ".py",
   "mimetype": "text/x-python",
   "name": "python",
   "nbconvert_exporter": "python",
   "pygments_lexer": "ipython3",
   "version": "3.5.2"
  }
 },
 "nbformat": 4,
 "nbformat_minor": 1
}
