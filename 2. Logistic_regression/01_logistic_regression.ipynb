{
 "cells": [
  {
   "cell_type": "markdown",
   "metadata": {},
   "source": [
    "# Logistic Regression"
   ]
  },
  {
   "cell_type": "markdown",
   "metadata": {},
   "source": [
    "## 1. Predicting a continuous response\n",
    "- Using linear regression model"
   ]
  },
  {
   "cell_type": "code",
   "execution_count": null,
   "metadata": {},
   "outputs": [],
   "source": [
    "# glass identification dataset\n",
    "import pandas as pd\n",
    "url = 'http://archive.ics.uci.edu/ml/machine-learning-databases/glass/glass.data'\n",
    "col_names = ['id','ri','na','mg','al','si','k','ca','ba','fe','glass_type']\n",
    "glass = pd.read_csv(url, names=col_names, index_col='id')\n",
    "glass.sort('al', inplace=True)\n",
    "glass.head()"
   ]
  },
  {
   "cell_type": "code",
   "execution_count": null,
   "metadata": {},
   "outputs": [],
   "source": [
    "# examine glass_type\n",
    "glass.glass_type.value_counts().sort_index()"
   ]
  },
  {
   "cell_type": "code",
   "execution_count": null,
   "metadata": {},
   "outputs": [],
   "source": [
    "len(glass)"
   ]
  },
  {
   "cell_type": "code",
   "execution_count": null,
   "metadata": {},
   "outputs": [],
   "source": [
    "# types 1, 2, 3 are window glass\n",
    "# types 5, 6, 7 are household glass\n",
    "glass['household'] = glass.glass_type.map({1:0, 2:0, 3:0, 5:1, 6:1, 7:1})\n",
    "glass.head()"
   ]
  },
  {
   "cell_type": "code",
   "execution_count": null,
   "metadata": {},
   "outputs": [],
   "source": [
    "import matplotlib.pyplot as plt\n",
    "%matplotlib inline\n",
    "plt.scatter(glass.al, glass.household)\n",
    "plt.xlabel('al')\n",
    "plt.ylabel('household')"
   ]
  },
  {
   "cell_type": "code",
   "execution_count": null,
   "metadata": {},
   "outputs": [],
   "source": [
    "# fit a linear regression model and store the predictions\n",
    "from sklearn.linear_model import LinearRegression\n",
    "linreg = LinearRegression()\n",
    "feature_cols = ['al']\n",
    "X = glass[feature_cols]\n",
    "y = glass.household\n",
    "linreg.fit(X, y)\n",
    "glass['household_pred'] = linreg.predict(X)"
   ]
  },
  {
   "cell_type": "code",
   "execution_count": null,
   "metadata": {},
   "outputs": [],
   "source": [
    "# scatter plot that includes the regression line\n",
    "plt.scatter(glass.al, glass.household)\n",
    "plt.plot(glass.al, glass.household_pred, color='red')\n",
    "plt.xlabel('al')\n",
    "plt.ylabel('household')"
   ]
  },
  {
   "cell_type": "markdown",
   "metadata": {},
   "source": [
    "## 2. Predicting a categorical response\n",
    "- Using logistic regression"
   ]
  },
  {
   "cell_type": "code",
   "execution_count": null,
   "metadata": {},
   "outputs": [],
   "source": [
    "# transform household_pred to 1 or 0\n",
    "import numpy as np\n",
    "glass['household_pared_class'] = np.where(glass.household_pred >= 0.5, 1, 0)\n",
    "glass.head()"
   ]
  },
  {
   "cell_type": "code",
   "execution_count": null,
   "metadata": {
    "collapsed": true
   },
   "outputs": [],
   "source": [
    "# fit a logistic regression model and store the class predictions\n",
    "from sklearn.linear_model import LogisticRegression\n",
    "logreg = LogisticRegression(C=1e9)\n",
    "feature_cols = ['al']\n",
    "X = glass[feature_cols]\n",
    "y = glass.household\n",
    "logreg.fit(X, y)\n",
    "glass['household_pred_class'] = logreg.predict(X)"
   ]
  },
  {
   "cell_type": "code",
   "execution_count": null,
   "metadata": {},
   "outputs": [],
   "source": [
    "glass.head(5)"
   ]
  },
  {
   "cell_type": "code",
   "execution_count": null,
   "metadata": {},
   "outputs": [],
   "source": [
    "test = logreg.predict_proba(X)\n",
    "print(test)"
   ]
  },
  {
   "cell_type": "code",
   "execution_count": null,
   "metadata": {},
   "outputs": [],
   "source": [
    "# store the predicted probabilites of class 1\n",
    "glass['household_pred_prob'] = logreg.predict_proba(X)[:, 1]\n",
    "\n",
    "# plot the predicted probabilities\n",
    "plt.scatter(glass.al, glass.household)\n",
    "plt.plot(glass.al, glass.household_pred_prob, color='red')\n",
    "plt.xlabel('al')\n",
    "plt.ylabel('household')"
   ]
  },
  {
   "cell_type": "code",
   "execution_count": null,
   "metadata": {},
   "outputs": [],
   "source": [
    "# examine some example predictions\n",
    "print(logreg.predict_proba(1))\n",
    "print(logreg.predict_proba(2))\n",
    "print(logreg.predict_proba(3))"
   ]
  },
  {
   "cell_type": "markdown",
   "metadata": {},
   "source": [
    "The first column indicates the predicted probability of **class 0**, and the second column indicates the predicted probability of **class 1**."
   ]
  },
  {
   "cell_type": "markdown",
   "metadata": {},
   "source": [
    "## 3. Iris data classification"
   ]
  },
  {
   "cell_type": "code",
   "execution_count": 1,
   "metadata": {},
   "outputs": [
    {
     "name": "stdout",
     "output_type": "stream",
     "text": [
      "Class labels: [0 1 2]\n"
     ]
    }
   ],
   "source": [
    "from sklearn import datasets\n",
    "import numpy as np\n",
    "\n",
    "iris = datasets.load_iris()\n",
    "X = iris.data[:, [2, 3]]\n",
    "y = iris.target\n",
    "\n",
    "print('Class labels:', np.unique(y))"
   ]
  },
  {
   "cell_type": "markdown",
   "metadata": {},
   "source": [
    "Splitting data into 70% training and 30% test data:"
   ]
  },
  {
   "cell_type": "code",
   "execution_count": 2,
   "metadata": {},
   "outputs": [
    {
     "name": "stderr",
     "output_type": "stream",
     "text": [
      "/Users/kth/anaconda3/lib/python3.6/site-packages/sklearn/cross_validation.py:44: DeprecationWarning: This module was deprecated in version 0.18 in favor of the model_selection module into which all the refactored classes and functions are moved. Also note that the interface of the new CV iterators are different from that of this module. This module will be removed in 0.20.\n",
      "  \"This module will be removed in 0.20.\", DeprecationWarning)\n"
     ]
    }
   ],
   "source": [
    "from sklearn.cross_validation import train_test_split\n",
    "\n",
    "X_train, X_test, y_train, y_test = train_test_split(\n",
    "    X, y, test_size=0.3, random_state=0)"
   ]
  },
  {
   "cell_type": "markdown",
   "metadata": {},
   "source": [
    "Standardizing the features:"
   ]
  },
  {
   "cell_type": "code",
   "execution_count": 3,
   "metadata": {
    "collapsed": true
   },
   "outputs": [],
   "source": [
    "from sklearn.preprocessing import StandardScaler\n",
    "\n",
    "sc = StandardScaler()\n",
    "sc.fit(X_train)\n",
    "X_train_std = sc.transform(X_train)\n",
    "X_test_std = sc.transform(X_test)"
   ]
  },
  {
   "cell_type": "code",
   "execution_count": 4,
   "metadata": {
    "collapsed": true
   },
   "outputs": [],
   "source": [
    "from matplotlib.colors import ListedColormap\n",
    "import matplotlib.pyplot as plt\n",
    "import warnings\n",
    "\n",
    "\n",
    "def versiontuple(v):\n",
    "    return tuple(map(int, (v.split(\".\"))))\n",
    "\n",
    "\n",
    "def plot_decision_regions(X, y, classifier, test_idx=None, resolution=0.02):\n",
    "\n",
    "    # setup marker generator and color map\n",
    "    markers = ('s', 'x', 'o', '^', 'v')\n",
    "    colors = ('red', 'blue', 'lightgreen', 'gray', 'cyan')\n",
    "    cmap = ListedColormap(colors[:len(np.unique(y))])\n",
    "\n",
    "    # plot the decision surface\n",
    "    x1_min, x1_max = X[:, 0].min() - 1, X[:, 0].max() + 1\n",
    "    x2_min, x2_max = X[:, 1].min() - 1, X[:, 1].max() + 1\n",
    "    xx1, xx2 = np.meshgrid(np.arange(x1_min, x1_max, resolution),\n",
    "                           np.arange(x2_min, x2_max, resolution))\n",
    "    Z = classifier.predict(np.array([xx1.ravel(), xx2.ravel()]).T)\n",
    "    Z = Z.reshape(xx1.shape)\n",
    "    plt.contourf(xx1, xx2, Z, alpha=0.4, cmap=cmap)\n",
    "    plt.xlim(xx1.min(), xx1.max())\n",
    "    plt.ylim(xx2.min(), xx2.max())\n",
    "\n",
    "    for idx, cl in enumerate(np.unique(y)):\n",
    "        plt.scatter(x=X[y == cl, 0], y=X[y == cl, 1],\n",
    "                    alpha=0.8, c=cmap(idx),\n",
    "                    marker=markers[idx], label=cl)\n",
    "\n",
    "    # highlight test samples\n",
    "    if test_idx:\n",
    "        # plot all samples\n",
    "        if not versiontuple(np.__version__) >= versiontuple('1.9.0'):\n",
    "            X_test, y_test = X[list(test_idx), :], y[list(test_idx)]\n",
    "            warnings.warn('Please update to NumPy 1.9.0 or newer')\n",
    "        else:\n",
    "            X_test, y_test = X[test_idx, :], y[test_idx]\n",
    "\n",
    "        plt.scatter(X_test[:, 0],\n",
    "                    X_test[:, 1],\n",
    "                    c='',\n",
    "                    alpha=1.0,\n",
    "                    linewidths=1,\n",
    "                    marker='o',\n",
    "                    s=55, label='test set')"
   ]
  },
  {
   "cell_type": "markdown",
   "metadata": {},
   "source": [
    "Training a logistic regression model with scikit-learn"
   ]
  },
  {
   "cell_type": "code",
   "execution_count": 5,
   "metadata": {},
   "outputs": [
    {
     "data": {
      "image/png": "[encoded data removed]",
      "text/plain": [
       "<matplotlib.figure.Figure at 0x1075693c8>"
      ]
     },
     "metadata": {},
     "output_type": "display_data"
    }
   ],
   "source": [
    "from sklearn.linear_model import LogisticRegression\n",
    "\n",
    "X_combined_std = np.vstack((X_train_std, X_test_std))\n",
    "y_combined = np.hstack((y_train, y_test))\n",
    "\n",
    "lr = LogisticRegression(C=1000.0, random_state=0)\n",
    "lr.fit(X_train_std, y_train)\n",
    "\n",
    "\n",
    "plot_decision_regions(X_combined_std, y_combined,\n",
    "                      classifier=lr, test_idx=range(105, 150))\n",
    "plt.xlabel('petal length [standardized]')\n",
    "plt.ylabel('petal width [standardized]')\n",
    "plt.legend(loc='upper left')\n",
    "plt.tight_layout()\n",
    "# plt.savefig('./figures/logistic_regression.png', dpi=300)\n",
    "plt.show()"
   ]
  },
  {
   "cell_type": "code",
   "execution_count": 6,
   "metadata": {},
   "outputs": [
    {
     "name": "stderr",
     "output_type": "stream",
     "text": [
      "/Users/kth/anaconda3/lib/python3.6/site-packages/sklearn/utils/validation.py:395: DeprecationWarning: Passing 1d arrays as data is deprecated in 0.17 and will raise ValueError in 0.19. Reshape your data either using X.reshape(-1, 1) if your data has a single feature or X.reshape(1, -1) if it contains a single sample.\n",
      "  DeprecationWarning)\n"
     ]
    },
    {
     "data": {
      "text/plain": [
       "array([[  2.05743774e-11,   6.31620264e-02,   9.36837974e-01]])"
      ]
     },
     "execution_count": 6,
     "metadata": {},
     "output_type": "execute_result"
    }
   ],
   "source": [
    "lr.predict_proba(X_test_std[0, :])"
   ]
  },
  {
   "cell_type": "markdown",
   "metadata": {},
   "source": [
    "# 4. Classification with TItanic dataset\n",
    "- Data from Kaggle's Titanic competition: [data dictionary](https://www.kaggle.com/c/titanic/data)\n",
    "- **Goal**: Predict survival based on passenger characteristics\n",
    "- `titanic.csv` is already in our repo, so there is no need to download the data from the Kaggle website"
   ]
  },
  {
   "cell_type": "code",
   "execution_count": 7,
   "metadata": {},
   "outputs": [
    {
     "data": {
      "text/html": [
       "<div>\n",
       "<table border=\"1\" class=\"dataframe\">\n",
       "  <thead>\n",
       "    <tr style=\"text-align: right;\">\n",
       "      <th></th>\n",
       "      <th>Survived</th>\n",
       "      <th>Pclass</th>\n",
       "      <th>Name</th>\n",
       "      <th>Sex</th>\n",
       "      <th>Age</th>\n",
       "      <th>SibSp</th>\n",
       "      <th>Parch</th>\n",
       "      <th>Ticket</th>\n",
       "      <th>Fare</th>\n",
       "      <th>Cabin</th>\n",
       "      <th>Embarked</th>\n",
       "    </tr>\n",
       "    <tr>\n",
       "      <th>PassengerId</th>\n",
       "      <th></th>\n",
       "      <th></th>\n",
       "      <th></th>\n",
       "      <th></th>\n",
       "      <th></th>\n",
       "      <th></th>\n",
       "      <th></th>\n",
       "      <th></th>\n",
       "      <th></th>\n",
       "      <th></th>\n",
       "      <th></th>\n",
       "    </tr>\n",
       "  </thead>\n",
       "  <tbody>\n",
       "    <tr>\n",
       "      <th>1</th>\n",
       "      <td>0</td>\n",
       "      <td>3</td>\n",
       "      <td>Braund, Mr. Owen Harris</td>\n",
       "      <td>male</td>\n",
       "      <td>22.0</td>\n",
       "      <td>1</td>\n",
       "      <td>0</td>\n",
       "      <td>A/5 21171</td>\n",
       "      <td>7.2500</td>\n",
       "      <td>NaN</td>\n",
       "      <td>S</td>\n",
       "    </tr>\n",
       "    <tr>\n",
       "      <th>2</th>\n",
       "      <td>1</td>\n",
       "      <td>1</td>\n",
       "      <td>Cumings, Mrs. John Bradley (Florence Briggs Th...</td>\n",
       "      <td>female</td>\n",
       "      <td>38.0</td>\n",
       "      <td>1</td>\n",
       "      <td>0</td>\n",
       "      <td>PC 17599</td>\n",
       "      <td>71.2833</td>\n",
       "      <td>C85</td>\n",
       "      <td>C</td>\n",
       "    </tr>\n",
       "    <tr>\n",
       "      <th>3</th>\n",
       "      <td>1</td>\n",
       "      <td>3</td>\n",
       "      <td>Heikkinen, Miss. Laina</td>\n",
       "      <td>female</td>\n",
       "      <td>26.0</td>\n",
       "      <td>0</td>\n",
       "      <td>0</td>\n",
       "      <td>STON/O2. 3101282</td>\n",
       "      <td>7.9250</td>\n",
       "      <td>NaN</td>\n",
       "      <td>S</td>\n",
       "    </tr>\n",
       "    <tr>\n",
       "      <th>4</th>\n",
       "      <td>1</td>\n",
       "      <td>1</td>\n",
       "      <td>Futrelle, Mrs. Jacques Heath (Lily May Peel)</td>\n",
       "      <td>female</td>\n",
       "      <td>35.0</td>\n",
       "      <td>1</td>\n",
       "      <td>0</td>\n",
       "      <td>113803</td>\n",
       "      <td>53.1000</td>\n",
       "      <td>C123</td>\n",
       "      <td>S</td>\n",
       "    </tr>\n",
       "    <tr>\n",
       "      <th>5</th>\n",
       "      <td>0</td>\n",
       "      <td>3</td>\n",
       "      <td>Allen, Mr. William Henry</td>\n",
       "      <td>male</td>\n",
       "      <td>35.0</td>\n",
       "      <td>0</td>\n",
       "      <td>0</td>\n",
       "      <td>373450</td>\n",
       "      <td>8.0500</td>\n",
       "      <td>NaN</td>\n",
       "      <td>S</td>\n",
       "    </tr>\n",
       "  </tbody>\n",
       "</table>\n",
       "</div>"
      ],
      "text/plain": [
       "             Survived  Pclass  \\\n",
       "PassengerId                     \n",
       "1                   0       3   \n",
       "2                   1       1   \n",
       "3                   1       3   \n",
       "4                   1       1   \n",
       "5                   0       3   \n",
       "\n",
       "                                                          Name     Sex   Age  \\\n",
       "PassengerId                                                                    \n",
       "1                                      Braund, Mr. Owen Harris    male  22.0   \n",
       "2            Cumings, Mrs. John Bradley (Florence Briggs Th...  female  38.0   \n",
       "3                                       Heikkinen, Miss. Laina  female  26.0   \n",
       "4                 Futrelle, Mrs. Jacques Heath (Lily May Peel)  female  35.0   \n",
       "5                                     Allen, Mr. William Henry    male  35.0   \n",
       "\n",
       "             SibSp  Parch            Ticket     Fare Cabin Embarked  \n",
       "PassengerId                                                          \n",
       "1                1      0         A/5 21171   7.2500   NaN        S  \n",
       "2                1      0          PC 17599  71.2833   C85        C  \n",
       "3                0      0  STON/O2. 3101282   7.9250   NaN        S  \n",
       "4                1      0            113803  53.1000  C123        S  \n",
       "5                0      0            373450   8.0500   NaN        S  "
      ]
     },
     "execution_count": 7,
     "metadata": {},
     "output_type": "execute_result"
    }
   ],
   "source": [
    "import pandas as pd\n",
    "url = 'data/titanic.csv'\n",
    "titanic = pd.read_csv(url, index_col='PassengerId')\n",
    "titanic.head()"
   ]
  },
  {
   "cell_type": "code",
   "execution_count": 8,
   "metadata": {},
   "outputs": [],
   "source": [
    "feature_cols = ['Pclass', 'Parch']\n",
    "X = titanic[feature_cols]\n",
    "y = titanic.Survived\n",
    "\n",
    "from sklearn.model_selection import train_test_split\n",
    "X_train, X_test, y_train, y_test = train_test_split(X, y, random_state=123)"
   ]
  },
  {
   "cell_type": "code",
   "execution_count": 9,
   "metadata": {},
   "outputs": [
    {
     "name": "stdout",
     "output_type": "stream",
     "text": [
      "[('Pclass', -0.82242418640816817), ('Parch', 0.27167984457549266)]\n"
     ]
    }
   ],
   "source": [
    "from sklearn.linear_model import LogisticRegression\n",
    "logreg = LogisticRegression(C=1000)\n",
    "logreg.fit(X_train, y_train)\n",
    "print(list(zip(feature_cols, logreg.coef_[0])))"
   ]
  },
  {
   "cell_type": "code",
   "execution_count": 11,
   "metadata": {},
   "outputs": [
    {
     "name": "stdout",
     "output_type": "stream",
     "text": [
      "[[-0.82242419  0.27167984]]\n",
      "[-0.82242419  0.27167984]\n"
     ]
    }
   ],
   "source": [
    "print(logreg.coef_)\n",
    "print(logreg.coef_[0])"
   ]
  },
  {
   "cell_type": "code",
   "execution_count": 12,
   "metadata": {
    "collapsed": true
   },
   "outputs": [],
   "source": [
    "# class predictions (not predicted probabilities)\n",
    "y_pred_class = logreg.predict(X_test)"
   ]
  },
  {
   "cell_type": "code",
   "execution_count": 13,
   "metadata": {},
   "outputs": [
    {
     "name": "stdout",
     "output_type": "stream",
     "text": [
      "0.699551569507\n"
     ]
    }
   ],
   "source": [
    "# calculate classification accuracy\n",
    "from sklearn import metrics\n",
    "print(metrics.accuracy_score(y_test, y_pred_class))"
   ]
  },
  {
   "cell_type": "markdown",
   "metadata": {},
   "source": [
    "# 5. How to evaluate the classification model"
   ]
  },
  {
   "cell_type": "markdown",
   "metadata": {},
   "source": [
    "## Using confusion matrix"
   ]
  },
  {
   "cell_type": "code",
   "execution_count": 14,
   "metadata": {},
   "outputs": [
    {
     "name": "stdout",
     "output_type": "stream",
     "text": [
      "[[114  25]\n",
      " [ 42  42]]\n"
     ]
    }
   ],
   "source": [
    "# print confusion matrix\n",
    "print(metrics.confusion_matrix(y_test, y_pred_class))"
   ]
  },
  {
   "cell_type": "code",
   "execution_count": 15,
   "metadata": {},
   "outputs": [],
   "source": [
    "# save confusion matrix and slice into four pieces\n",
    "confusion = metrics.confusion_matrix(y_test, y_pred_class)\n",
    "TP = confusion[1][1]\n",
    "TN = confusion[0][0]\n",
    "FP = confusion[0][1]\n",
    "FN = confusion[1][0]"
   ]
  },
  {
   "cell_type": "code",
   "execution_count": 16,
   "metadata": {},
   "outputs": [
    {
     "name": "stdout",
     "output_type": "stream",
     "text": [
      "True Positives: 42\n",
      "True Negatives: 114\n",
      "False Positives: 25\n",
      "False Negatives: 42\n"
     ]
    }
   ],
   "source": [
    "print('True Positives:', TP)\n",
    "print('True Negatives:', TN)\n",
    "print('False Positives:', FP)\n",
    "print('False Negatives:', FN)"
   ]
  },
  {
   "cell_type": "code",
   "execution_count": 17,
   "metadata": {},
   "outputs": [
    {
     "name": "stdout",
     "output_type": "stream",
     "text": [
      "Sensitivity: 0.5\n"
     ]
    }
   ],
   "source": [
    "# calculate the sensitivity\n",
    "print('Sensitivity:', TP / (TP + FN))"
   ]
  },
  {
   "cell_type": "code",
   "execution_count": 18,
   "metadata": {},
   "outputs": [
    {
     "name": "stdout",
     "output_type": "stream",
     "text": [
      "Specificity: 0.820143884892\n"
     ]
    }
   ],
   "source": [
    "# calculate the specificity\n",
    "print('Specificity:', TN / (TN + FP))"
   ]
  },
  {
   "cell_type": "markdown",
   "metadata": {},
   "source": [
    "### How about using other threshold?\n",
    "- If y_pred_prob > 0.3, than y_pred_class = 1"
   ]
  },
  {
   "cell_type": "code",
   "execution_count": 19,
   "metadata": {},
   "outputs": [
    {
     "name": "stdout",
     "output_type": "stream",
     "text": [
      "[[ 0.70866641  0.29133359]\n",
      " [ 0.76144096  0.23855904]\n",
      " [ 0.38124844  0.61875156]\n",
      " [ 0.38124844  0.61875156]\n",
      " [ 0.76144096  0.23855904]\n",
      " [ 0.58374631  0.41625369]\n",
      " [ 0.58374631  0.41625369]\n",
      " [ 0.58374631  0.41625369]\n",
      " [ 0.70866641  0.29133359]\n",
      " [ 0.51846071  0.48153929]\n",
      " [ 0.64958968  0.35041032]\n",
      " [ 0.76144096  0.23855904]\n",
      " [ 0.31953003  0.68046997]\n",
      " [ 0.76144096  0.23855904]\n",
      " [ 0.38124844  0.61875156]\n",
      " [ 0.70866641  0.29133359]\n",
      " [ 0.38124844  0.61875156]\n",
      " [ 0.38124844  0.61875156]\n",
      " [ 0.51846071  0.48153929]\n",
      " [ 0.58374631  0.41625369]\n",
      " [ 0.64958968  0.35041032]\n",
      " [ 0.4488822   0.5511178 ]\n",
      " [ 0.58374631  0.41625369]\n",
      " [ 0.70866641  0.29133359]\n",
      " [ 0.70866641  0.29133359]\n",
      " [ 0.76144096  0.23855904]\n",
      " [ 0.76144096  0.23855904]\n",
      " [ 0.38124844  0.61875156]\n",
      " [ 0.76144096  0.23855904]\n",
      " [ 0.76144096  0.23855904]\n",
      " [ 0.64958968  0.35041032]\n",
      " [ 0.51661682  0.48338318]\n",
      " [ 0.58374631  0.41625369]\n",
      " [ 0.76144096  0.23855904]\n",
      " [ 0.51661682  0.48338318]\n",
      " [ 0.76144096  0.23855904]\n",
      " [ 0.76144096  0.23855904]\n",
      " [ 0.76144096  0.23855904]\n",
      " [ 0.58374631  0.41625369]\n",
      " [ 0.38124844  0.61875156]\n",
      " [ 0.26354728  0.73645272]\n",
      " [ 0.76144096  0.23855904]\n",
      " [ 0.76144096  0.23855904]\n",
      " [ 0.76144096  0.23855904]\n",
      " [ 0.76144096  0.23855904]\n",
      " [ 0.58374631  0.41625369]\n",
      " [ 0.38124844  0.61875156]\n",
      " [ 0.38124844  0.61875156]\n",
      " [ 0.76144096  0.23855904]\n",
      " [ 0.58374631  0.41625369]\n",
      " [ 0.76144096  0.23855904]\n",
      " [ 0.64958968  0.35041032]\n",
      " [ 0.76144096  0.23855904]\n",
      " [ 0.76144096  0.23855904]\n",
      " [ 0.58374631  0.41625369]\n",
      " [ 0.76144096  0.23855904]\n",
      " [ 0.70866641  0.29133359]\n",
      " [ 0.76144096  0.23855904]\n",
      " [ 0.38124844  0.61875156]\n",
      " [ 0.64958968  0.35041032]\n",
      " [ 0.38124844  0.61875156]\n",
      " [ 0.38124844  0.61875156]\n",
      " [ 0.26354728  0.73645272]\n",
      " [ 0.38124844  0.61875156]\n",
      " [ 0.76144096  0.23855904]\n",
      " [ 0.70866641  0.29133359]\n",
      " [ 0.58374631  0.41625369]\n",
      " [ 0.58374631  0.41625369]\n",
      " [ 0.38124844  0.61875156]\n",
      " [ 0.58374631  0.41625369]\n",
      " [ 0.38124844  0.61875156]\n",
      " [ 0.76144096  0.23855904]\n",
      " [ 0.38124844  0.61875156]\n",
      " [ 0.31953003  0.68046997]\n",
      " [ 0.76144096  0.23855904]\n",
      " [ 0.76144096  0.23855904]\n",
      " [ 0.76144096  0.23855904]\n",
      " [ 0.76144096  0.23855904]\n",
      " [ 0.38124844  0.61875156]\n",
      " [ 0.38124844  0.61875156]\n",
      " [ 0.76144096  0.23855904]\n",
      " [ 0.76144096  0.23855904]\n",
      " [ 0.64958968  0.35041032]\n",
      " [ 0.76144096  0.23855904]\n",
      " [ 0.76144096  0.23855904]\n",
      " [ 0.58374631  0.41625369]\n",
      " [ 0.64958968  0.35041032]\n",
      " [ 0.76144096  0.23855904]\n",
      " [ 0.38124844  0.61875156]\n",
      " [ 0.76144096  0.23855904]\n",
      " [ 0.76144096  0.23855904]\n",
      " [ 0.58374631  0.41625369]\n",
      " [ 0.58374631  0.41625369]\n",
      " [ 0.64958968  0.35041032]\n",
      " [ 0.31953003  0.68046997]\n",
      " [ 0.76144096  0.23855904]\n",
      " [ 0.38124844  0.61875156]\n",
      " [ 0.38124844  0.61875156]\n",
      " [ 0.76144096  0.23855904]\n",
      " [ 0.51661682  0.48338318]\n",
      " [ 0.70866641  0.29133359]\n",
      " [ 0.26354728  0.73645272]\n",
      " [ 0.38124844  0.61875156]\n",
      " [ 0.76144096  0.23855904]\n",
      " [ 0.76144096  0.23855904]\n",
      " [ 0.38124844  0.61875156]\n",
      " [ 0.76144096  0.23855904]\n",
      " [ 0.76144096  0.23855904]\n",
      " [ 0.76144096  0.23855904]\n",
      " [ 0.58374631  0.41625369]\n",
      " [ 0.4488822   0.5511178 ]\n",
      " [ 0.38124844  0.61875156]\n",
      " [ 0.26354728  0.73645272]\n",
      " [ 0.76144096  0.23855904]\n",
      " [ 0.76144096  0.23855904]\n",
      " [ 0.58374631  0.41625369]\n",
      " [ 0.38124844  0.61875156]\n",
      " [ 0.58374631  0.41625369]\n",
      " [ 0.76144096  0.23855904]\n",
      " [ 0.38124844  0.61875156]\n",
      " [ 0.76144096  0.23855904]\n",
      " [ 0.76144096  0.23855904]\n",
      " [ 0.38124844  0.61875156]\n",
      " [ 0.76144096  0.23855904]\n",
      " [ 0.58374631  0.41625369]\n",
      " [ 0.58374631  0.41625369]\n",
      " [ 0.38473855  0.61526145]\n",
      " [ 0.38124844  0.61875156]\n",
      " [ 0.76144096  0.23855904]\n",
      " [ 0.76144096  0.23855904]\n",
      " [ 0.31953003  0.68046997]\n",
      " [ 0.76144096  0.23855904]\n",
      " [ 0.76144096  0.23855904]\n",
      " [ 0.58374631  0.41625369]\n",
      " [ 0.38124844  0.61875156]\n",
      " [ 0.76144096  0.23855904]\n",
      " [ 0.31953003  0.68046997]\n",
      " [ 0.70866641  0.29133359]\n",
      " [ 0.76144096  0.23855904]\n",
      " [ 0.51661682  0.48338318]\n",
      " [ 0.76144096  0.23855904]\n",
      " [ 0.38124844  0.61875156]\n",
      " [ 0.70866641  0.29133359]\n",
      " [ 0.51661682  0.48338318]\n",
      " [ 0.70866641  0.29133359]\n",
      " [ 0.76144096  0.23855904]\n",
      " [ 0.45070975  0.54929025]\n",
      " [ 0.76144096  0.23855904]\n",
      " [ 0.76144096  0.23855904]\n",
      " [ 0.38124844  0.61875156]\n",
      " [ 0.38124844  0.61875156]\n",
      " [ 0.64958968  0.35041032]\n",
      " [ 0.76144096  0.23855904]\n",
      " [ 0.76144096  0.23855904]\n",
      " [ 0.38124844  0.61875156]\n",
      " [ 0.76144096  0.23855904]\n",
      " [ 0.38124844  0.61875156]\n",
      " [ 0.76144096  0.23855904]\n",
      " [ 0.58374631  0.41625369]\n",
      " [ 0.38124844  0.61875156]\n",
      " [ 0.58374631  0.41625369]\n",
      " [ 0.38124844  0.61875156]\n",
      " [ 0.38124844  0.61875156]\n",
      " [ 0.26354728  0.73645272]\n",
      " [ 0.38124844  0.61875156]\n",
      " [ 0.31953003  0.68046997]\n",
      " [ 0.38299199  0.61700801]\n",
      " [ 0.76144096  0.23855904]\n",
      " [ 0.76144096  0.23855904]\n",
      " [ 0.70866641  0.29133359]\n",
      " [ 0.76144096  0.23855904]\n",
      " [ 0.38124844  0.61875156]\n",
      " [ 0.70866641  0.29133359]\n",
      " [ 0.51661682  0.48338318]\n",
      " [ 0.76144096  0.23855904]\n",
      " [ 0.76144096  0.23855904]\n",
      " [ 0.4488822   0.5511178 ]\n",
      " [ 0.76144096  0.23855904]\n",
      " [ 0.58374631  0.41625369]\n",
      " [ 0.31953003  0.68046997]\n",
      " [ 0.76144096  0.23855904]\n",
      " [ 0.76144096  0.23855904]\n",
      " [ 0.76144096  0.23855904]\n",
      " [ 0.31953003  0.68046997]\n",
      " [ 0.58374631  0.41625369]\n",
      " [ 0.4488822   0.5511178 ]\n",
      " [ 0.58374631  0.41625369]\n",
      " [ 0.38124844  0.61875156]\n",
      " [ 0.76144096  0.23855904]\n",
      " [ 0.76144096  0.23855904]\n",
      " [ 0.58374631  0.41625369]\n",
      " [ 0.76144096  0.23855904]\n",
      " [ 0.51661682  0.48338318]\n",
      " [ 0.58374631  0.41625369]\n",
      " [ 0.76144096  0.23855904]\n",
      " [ 0.31953003  0.68046997]\n",
      " [ 0.76144096  0.23855904]\n",
      " [ 0.70866641  0.29133359]\n",
      " [ 0.58374631  0.41625369]\n",
      " [ 0.76144096  0.23855904]\n",
      " [ 0.31953003  0.68046997]\n",
      " [ 0.76144096  0.23855904]\n",
      " [ 0.38124844  0.61875156]\n",
      " [ 0.38124844  0.61875156]\n",
      " [ 0.38124844  0.61875156]\n",
      " [ 0.76144096  0.23855904]\n",
      " [ 0.76144096  0.23855904]\n",
      " [ 0.51661682  0.48338318]\n",
      " [ 0.38124844  0.61875156]\n",
      " [ 0.76144096  0.23855904]\n",
      " [ 0.76144096  0.23855904]\n",
      " [ 0.58374631  0.41625369]\n",
      " [ 0.70866641  0.29133359]\n",
      " [ 0.76144096  0.23855904]\n",
      " [ 0.76144096  0.23855904]\n",
      " [ 0.76144096  0.23855904]\n",
      " [ 0.58374631  0.41625369]\n",
      " [ 0.76144096  0.23855904]\n",
      " [ 0.70866641  0.29133359]\n",
      " [ 0.76144096  0.23855904]\n",
      " [ 0.76144096  0.23855904]\n",
      " [ 0.31953003  0.68046997]\n",
      " [ 0.76144096  0.23855904]]\n"
     ]
    }
   ],
   "source": [
    "test = logreg.predict_proba(X_test)\n",
    "print(test)"
   ]
  },
  {
   "cell_type": "code",
   "execution_count": 20,
   "metadata": {
    "collapsed": true
   },
   "outputs": [],
   "source": [
    "# store the predicted probabilities\n",
    "y_pred_prob = logreg.predict_proba(X_test)[:, 1]"
   ]
  },
  {
   "cell_type": "code",
   "execution_count": 22,
   "metadata": {},
   "outputs": [
    {
     "data": {
      "text/plain": [
       "<matplotlib.text.Text at 0x1072edbe0>"
      ]
     },
     "execution_count": 22,
     "metadata": {},
     "output_type": "execute_result"
    },
    {
     "data": {
      "image/png": "[encoded data removed]",
      "text/plain": [
       "<matplotlib.figure.Figure at 0x115c8f278>"
      ]
     },
     "metadata": {},
     "output_type": "display_data"
    }
   ],
   "source": [
    "# histogram of predicted probabilities\n",
    "%matplotlib inline\n",
    "plt.hist(y_pred_prob)\n",
    "plt.xlim(0, 1)\n",
    "plt.xlabel('Predicted probability of survival')\n",
    "plt.ylabel('Frequency')"
   ]
  },
  {
   "cell_type": "code",
   "execution_count": 23,
   "metadata": {
    "collapsed": true
   },
   "outputs": [],
   "source": [
    "# increase sensitivity by lowering the threshold for predicting survival\n",
    "y_pred_class_new = np.where(y_pred_prob >= 0.3, 1, 0)"
   ]
  },
  {
   "cell_type": "code",
   "execution_count": 24,
   "metadata": {},
   "outputs": [
    {
     "name": "stdout",
     "output_type": "stream",
     "text": [
      "[[114  25]\n",
      " [ 42  42]]\n"
     ]
    }
   ],
   "source": [
    "# old confusion matrix\n",
    "print(confusion)"
   ]
  },
  {
   "cell_type": "code",
   "execution_count": 25,
   "metadata": {},
   "outputs": [
    {
     "name": "stdout",
     "output_type": "stream",
     "text": [
      "[[84 55]\n",
      " [21 63]]\n"
     ]
    }
   ],
   "source": [
    "confusion_new = metrics.confusion_matrix(y_test, y_pred_class_new)\n",
    "print(confusion_new)"
   ]
  },
  {
   "cell_type": "code",
   "execution_count": 26,
   "metadata": {
    "collapsed": true
   },
   "outputs": [],
   "source": [
    "TP = confusion_new[1][1]\n",
    "TN = confusion_new[0][0]\n",
    "FP = confusion_new[0][1]\n",
    "FN = confusion_new[1][0]"
   ]
  },
  {
   "cell_type": "code",
   "execution_count": 27,
   "metadata": {},
   "outputs": [
    {
     "name": "stdout",
     "output_type": "stream",
     "text": [
      "Sensitivity: 0.75\n"
     ]
    }
   ],
   "source": [
    "# new sensitivity (higher than before)\n",
    "print('Sensitivity:', TP / float(TP + FN))"
   ]
  },
  {
   "cell_type": "code",
   "execution_count": 28,
   "metadata": {
    "scrolled": true
   },
   "outputs": [
    {
     "name": "stdout",
     "output_type": "stream",
     "text": [
      "Specificity: 0.604316546763\n"
     ]
    }
   ],
   "source": [
    "# new specificity (lower than before)\n",
    "print('Specificity:', TN / float(TN + FP))"
   ]
  },
  {
   "cell_type": "markdown",
   "metadata": {},
   "source": [
    "## ROC, auroc"
   ]
  },
  {
   "cell_type": "markdown",
   "metadata": {},
   "source": [
    "### Drawing ROC curve and calculate AUC"
   ]
  },
  {
   "cell_type": "code",
   "execution_count": 29,
   "metadata": {
    "collapsed": true
   },
   "outputs": [],
   "source": [
    "from sklearn.metrics import roc_curve, auc"
   ]
  },
  {
   "cell_type": "code",
   "execution_count": 30,
   "metadata": {
    "collapsed": true
   },
   "outputs": [],
   "source": [
    "classifier = LogisticRegression(penalty='l2', C=1)\n",
    "y_prob = classifier.fit(X_train, y_train).predict_proba(X_test)\n",
    "y_score = classifier.fit(X_train, y_train).decision_function(X_test)"
   ]
  },
  {
   "cell_type": "code",
   "execution_count": 31,
   "metadata": {
    "scrolled": true
   },
   "outputs": [
    {
     "name": "stdout",
     "output_type": "stream",
     "text": [
      "[[ 0.70491473  0.29508527]\n",
      " [ 0.75808298  0.24191702]\n",
      " [ 0.39390225  0.60609775]\n",
      " [ 0.39390225  0.60609775]\n",
      " [ 0.75808298  0.24191702]]\n"
     ]
    }
   ],
   "source": [
    "print(y_prob[0:5,:])"
   ]
  },
  {
   "cell_type": "code",
   "execution_count": 32,
   "metadata": {},
   "outputs": [
    {
     "name": "stdout",
     "output_type": "stream",
     "text": [
      "[-0.87081249 -1.14219806  0.43093848  0.43093848 -1.14219806]\n"
     ]
    }
   ],
   "source": [
    "print(y_score[0:5])"
   ]
  },
  {
   "cell_type": "code",
   "execution_count": null,
   "metadata": {},
   "outputs": [],
   "source": [
    "fpr, tpr, _ = roc_curve(y_test, y_score)\n",
    "roc_auc = auc(fpr, tpr)\n",
    "print(roc_auc)"
   ]
  },
  {
   "cell_type": "code",
   "execution_count": null,
   "metadata": {},
   "outputs": [],
   "source": [
    "plt.figure()\n",
    "plt.plot(fpr, tpr, label = 'ROC curve')\n",
    "plt.plot([0,1], [0,1], 'k--')\n",
    "plt.xlim([0.0, 1.0])\n",
    "plt.ylim([0.0, 1.05])\n",
    "plt.xlabel('False Positive Rate')\n",
    "plt.ylabel('True Positive Rate')\n",
    "plt.title('Receiver operating characteristic example')\n",
    "plt.legend(loc=\"lower right\")\n",
    "plt.show()"
   ]
  },
  {
   "cell_type": "code",
   "execution_count": null,
   "metadata": {
    "collapsed": true
   },
   "outputs": [],
   "source": []
  }
 ],
 "metadata": {
  "anaconda-cloud": {},
  "kernelspec": {
   "display_name": "Python [conda root]",
   "language": "python",
   "name": "conda-root-py"
  },
  "language_info": {
   "codemirror_mode": {
    "name": "ipython",
    "version": 3
   },
   "file_extension": ".py",
   "mimetype": "text/x-python",
   "name": "python",
   "nbconvert_exporter": "python",
   "pygments_lexer": "ipython3",
   "version": "3.6.0"
  }
 },
 "nbformat": 4,
 "nbformat_minor": 1
}
